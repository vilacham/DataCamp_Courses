{
 "cells": [
  {
   "cell_type": "markdown",
   "metadata": {},
   "source": [
    "# Introduction and flat files"
   ]
  },
  {
   "cell_type": "markdown",
   "metadata": {},
   "source": [
    "## Exploring your working directory"
   ]
  },
  {
   "cell_type": "markdown",
   "metadata": {},
   "source": [
    "In order to import data into Python, you should first have an idea of what files are in your working directory.\n",
    "\n",
    "IPython has a bunch of cool commands, including its magic commands. For example, starting a line with `!` gives you complete system shell access. This means that the IPython magic command `! ls` (`! dir` in Windows) will display the contents of your current directory. \n",
    "\n",
    "Below, we will use the IPython magic command `! dir` to check out the contents of our current directory and answer the following question: which files are in our working directory?"
   ]
  },
  {
   "cell_type": "code",
   "execution_count": 3,
   "metadata": {
    "collapsed": false
   },
   "outputs": [
    {
     "name": "stdout",
     "output_type": "stream",
     "text": [
      " O volume na unidade C ‚ Windows8_OS\n",
      " O N£mero de S‚rie do Volume ‚ E229-E793\n",
      "\n",
      " Pasta de C:\\Users\\mathe\\Desktop\\DataCamp\\DataCamp_Courses\n",
      "\n",
      "02/07/2017  11:43    <DIR>          .\n",
      "02/07/2017  11:43    <DIR>          ..\n",
      "14/06/2017  20:35               395 .gitattributes\n",
      "14/06/2017  20:35               696 .gitignore\n",
      "02/07/2017  11:38    <DIR>          .ipynb_checkpoints\n",
      "02/07/2017  11:43             1.735 Importing Data with Python (Part 1).ipynb\n",
      "02/07/2017  11:34            44.124 Intro to Python for Data Science Course.ipynb\n",
      "               4 arquivo(s)         46.950 bytes\n",
      "               3 pasta(s)   364.490.895.360 bytes dispon¡veis\n"
     ]
    }
   ],
   "source": [
    "! dir"
   ]
  },
  {
   "cell_type": "markdown",
   "metadata": {},
   "source": [
    "## Importing entire text files"
   ]
  },
  {
   "cell_type": "markdown",
   "metadata": {},
   "source": [
    "Below, we'll be working with the file `moby_dick.txt`. It is a text file that contains the opening sentences of Moby Dick, one of the great American novels! We'll get experienced opening a text file, printing its contents to the shell and, finally, closing it."
   ]
  },
  {
   "cell_type": "code",
   "execution_count": 7,
   "metadata": {
    "collapsed": false
   },
   "outputs": [
    {
     "name": "stdout",
     "output_type": "stream",
     "text": [
      "CHAPTER 1. Loomings.\n",
      "    \n",
      "Call me Ishmael. Some years ago--never mind how long precisely--having\n",
      "little or no money in my purse, and nothing particular to interest me on\n",
      "shore, I thought I would sail about a little and see the watery part of\n",
      "the world. It is a way I have of driving off the spleen and regulating\n",
      "the circulation. Whenever I find myself growing grim about the mouth;\n",
      "whenever it is a damp, drizzly November in my soul; whenever I find\n",
      "myself involuntarily pausing before coffin warehouses, and bringing up\n",
      "the rear of every funeral I meet; and especially whenever my hypos get\n",
      "such an upper hand of me, that it requires a strong moral principle to\n",
      "prevent me from deliberately stepping into the street, and methodically\n",
      "knocking people's hats off--then, I account it high time to get to sea\n",
      "as soon as I can. This is my substitute for pistol and ball. With a\n",
      "philosophical flourish Cato throws himself upon his sword; I quietly\n",
      "take to the ship. There is nothing surprising in this. If they but knew\n",
      "it, almost all men in their degree, some time or other, cherish very\n",
      "nearly the same feelings towards the ocean with me.\n",
      "\n",
      "File is closed: False\n",
      "\n",
      "File is closed: True\n"
     ]
    }
   ],
   "source": [
    "# Open the file and assign it to a new variable called file\n",
    "file = open('moby_dick.txt')\n",
    "\n",
    "# Print the file\n",
    "print(file.read())\n",
    "\n",
    "# Check whether file is closed\n",
    "print(\"\\nFile is closed: \" + str(file.closed))\n",
    "\n",
    "# Close file\n",
    "file.close()\n",
    "\n",
    "# Check whether file is closed one more time\n",
    "print(\"\\nFile is closed: \" + str(file.closed))"
   ]
  },
  {
   "cell_type": "markdown",
   "metadata": {},
   "source": [
    "## Importing text files line by line"
   ]
  },
  {
   "cell_type": "markdown",
   "metadata": {},
   "source": [
    "For large cells, we may not want to print all of their content to the shell: we may wish to print only the first few lines. Fot that, we need to enter the `readline()` method. When a file called `file` is open, we can print out the first line by executing `file.readline()`. If we execute the same command again, the second line will print, and so on.\n",
    "\n",
    "We can bind a variable `file` by using a context manager construct: `with open('huck_finn.txt) as file`.\n",
    "\n",
    "While still within this construct, the variable `file` will be bound to `open(huck_finn.txt)`; thus, to print the file to the shell, all the code we need to execute is: `with open('huck_finn.txt) as file: print(file.read())`.\n",
    "\n",
    "Below, we'll use these tools to print the first few lines of `moby_dick.txt`."
   ]
  },
  {
   "cell_type": "code",
   "execution_count": 8,
   "metadata": {
    "collapsed": false
   },
   "outputs": [
    {
     "name": "stdout",
     "output_type": "stream",
     "text": [
      "CHAPTER 1. Loomings.\n",
      "\n",
      "    \n",
      "\n",
      "Call me Ishmael. Some years ago--never mind how long precisely--having\n",
      "\n"
     ]
    }
   ],
   "source": [
    "# Read and print the first three lines of moby_dick.txt\n",
    "with open('moby_dick.txt') as file:\n",
    "    print(file.readline())\n",
    "    print(file.readline())\n",
    "    print(file.readline())"
   ]
  },
  {
   "cell_type": "markdown",
   "metadata": {},
   "source": [
    "## "
   ]
  }
 ],
 "metadata": {
  "kernelspec": {
   "display_name": "Python [default]",
   "language": "python",
   "name": "python2"
  },
  "language_info": {
   "codemirror_mode": {
    "name": "ipython",
    "version": 2
   },
   "file_extension": ".py",
   "mimetype": "text/x-python",
   "name": "python",
   "nbconvert_exporter": "python",
   "pygments_lexer": "ipython2",
   "version": "2.7.12"
  }
 },
 "nbformat": 4,
 "nbformat_minor": 1
}
