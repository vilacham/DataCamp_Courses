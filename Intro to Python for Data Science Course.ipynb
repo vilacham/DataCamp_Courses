{
 "cells": [
  {
   "cell_type": "markdown",
   "metadata": {},
   "source": [
    "# Python Basics"
   ]
  },
  {
   "cell_type": "markdown",
   "metadata": {},
   "source": [
    "## When to use Python?"
   ]
  },
  {
   "cell_type": "markdown",
   "metadata": {},
   "source": [
    "Python is a pretty versatile language. It is useful, for instance, for the following applications:\n",
    "* Quick calculations\n",
    "* Develop a database-driven website\n",
    "* Clean and analyze results of a satisfaction survey"
   ]
  },
  {
   "cell_type": "markdown",
   "metadata": {},
   "source": [
    "## Comments"
   ]
  },
  {
   "cell_type": "markdown",
   "metadata": {},
   "source": [
    "We can add **comments** to our Python scripts. Comments are important to make sure that you and others can understand what your code is about.\n",
    "\n",
    "To add comments to our Python script, we can use the `#` tag. These comments are not run as Python code, so they will not influence our result."
   ]
  },
  {
   "cell_type": "code",
   "execution_count": 1,
   "metadata": {
    "collapsed": false
   },
   "outputs": [
    {
     "name": "stdout",
     "output_type": "stream",
     "text": [
      "7 + 10 = 17\n",
      "18 - 15 = 3\n",
      "13 * 5 = 65\n",
      "5 / 8 = 0\n"
     ]
    }
   ],
   "source": [
    "# Just testing adition\n",
    "print(\"7 + 10 = {}\".format(7 + 10))\n",
    "\n",
    "# Trying subtraction\n",
    "print(\"18 - 15 = {}\".format(18 - 15))\n",
    "\n",
    "# Multiplication works\n",
    "print(\"13 * 5 = {}\".format(13 * 5))\n",
    "\n",
    "# Addition works too\n",
    "print(\"5 / 8 = {}\".format(5 / 8))"
   ]
  },
  {
   "cell_type": "markdown",
   "metadata": {},
   "source": [
    "## Python as a calculator"
   ]
  },
  {
   "cell_type": "markdown",
   "metadata": {
    "collapsed": true
   },
   "source": [
    "Python is perfectly suited to do basic calculations. Apart from addition, subtraction, multiplication and division, there is also support for more advanced operations such as:\n",
    "* Exponentiation: `**`. This operator raises the number to its left to the power of the number to its right. For example `4 ** 2` will give `16`.\n",
    "* Modulo: `%`. This operator returns the remainder of the division of the number to the left by the number on its right. For example `18 % 7` equals `4`."
   ]
  },
  {
   "cell_type": "code",
   "execution_count": 2,
   "metadata": {
    "collapsed": false
   },
   "outputs": [
    {
     "name": "stdout",
     "output_type": "stream",
     "text": [
      "4 ** 2 = 16\n",
      "18 % 7 = 4\n"
     ]
    }
   ],
   "source": [
    "# Exponentiation\n",
    "print(\"4 ** 2 = {}\".format(4 ** 2))\n",
    "\n",
    "# Modulo\n",
    "print(\"18 % 7 = {}\".format(18 % 7))"
   ]
  },
  {
   "cell_type": "markdown",
   "metadata": {},
   "source": [
    "Suppose we have $100, which we can invest with a 10% return each year.\n",
    "* After one year, it's 100 x 1.1 = 110 dollars.\n",
    "* After two years it's 100 x 1.1 x 1.1 = 121 dollars.\n",
    "\n",
    "We can calculate how much money we end up with after seven years as follows: "
   ]
  },
  {
   "cell_type": "code",
   "execution_count": 3,
   "metadata": {
    "collapsed": false
   },
   "outputs": [
    {
     "name": "stdout",
     "output_type": "stream",
     "text": [
      "194.87 dollars\n"
     ]
    }
   ],
   "source": [
    "# Amount after seven years\n",
    "amount = round(100 * (1.1 ** 7), 2)\n",
    "print(str(amount) + \" dollars\")"
   ]
  },
  {
   "cell_type": "markdown",
   "metadata": {},
   "source": [
    "## Variable assignment"
   ]
  },
  {
   "cell_type": "markdown",
   "metadata": {},
   "source": [
    "In Python, a variable allows us to refer to a value with a name. To create a variable, we use `=`, like this example:\n",
    "\n",
    "`x = 5`\n",
    "\n",
    "We can now use the name of this variable, `x`, instead of the actual value, `5`.\n",
    "\n",
    "**Remember:** `=` in Python means *assignment*, not equality!"
   ]
  },
  {
   "cell_type": "code",
   "execution_count": 4,
   "metadata": {
    "collapsed": false
   },
   "outputs": [
    {
     "name": "stdout",
     "output_type": "stream",
     "text": [
      "100\n"
     ]
    }
   ],
   "source": [
    "# Create a variable savings and assigns 100 to it\n",
    "savings = 100\n",
    "\n",
    "# Print out savings\n",
    "print(savings)"
   ]
  },
  {
   "cell_type": "markdown",
   "metadata": {},
   "source": [
    "## Calculations with variables"
   ]
  },
  {
   "cell_type": "markdown",
   "metadata": {},
   "source": [
    "Instead of calculating with values, we can use variables instead."
   ]
  },
  {
   "cell_type": "code",
   "execution_count": 5,
   "metadata": {
    "collapsed": false
   },
   "outputs": [
    {
     "name": "stdout",
     "output_type": "stream",
     "text": [
      "161.05\n"
     ]
    }
   ],
   "source": [
    "# Create a variable factor and assigns 1.1 to it\n",
    "factor = 1.1\n",
    "\n",
    "# Calculate how much money we end up with after five years\n",
    "result = round(savings * (factor ** 5), 2)\n",
    "print(result)"
   ]
  },
  {
   "cell_type": "markdown",
   "metadata": {},
   "source": [
    "## Some variable types"
   ]
  },
  {
   "cell_type": "markdown",
   "metadata": {},
   "source": [
    "* `int`, or integer: a number wothout a fractional part. `savings`, with the value of `100` is an example of an integer.\n",
    "* `float`, or floating point: a number that has both an integer and a fractional part, separated by a point. `factor`, with the value of `1.1` is an example a float.\n",
    "* `str`, or string: a type to represent text. We can use single or double quotes to build a string.\n",
    "* `bool`, or boolean: a type to represent logical values. Can only be `True` or `False` (the capitalization is important)."
   ]
  },
  {
   "cell_type": "code",
   "execution_count": 6,
   "metadata": {
    "collapsed": false
   },
   "outputs": [
    {
     "name": "stdout",
     "output_type": "stream",
     "text": [
      "An example of an integer: 10\n",
      "An example of a float: 1.25\n",
      "An example of a string: This is a string!\n",
      "An example of a boolean: True\n"
     ]
    }
   ],
   "source": [
    "# An example of an integer\n",
    "integer_example = 10\n",
    "print(\"An example of an integer: {}\".format(integer_example))\n",
    "\n",
    "# An example of a float\n",
    "float_example = 1.25\n",
    "print(\"An example of a float: {}\".format(float_example))\n",
    "\n",
    "# An example of a string\n",
    "string_example = 'This is a string!'\n",
    "print(\"An example of a string: {}\".format(string_example))\n",
    "\n",
    "# An example of a boolean\n",
    "boolean_example = True\n",
    "print(\"An example of a boolean: {}\".format(boolean_example))"
   ]
  },
  {
   "cell_type": "markdown",
   "metadata": {},
   "source": [
    "To find out the type of a value or a variable that refers to that value, we can use the `type()` function. Suppose we have defined a variable `a`, but we forgot the type of this variable. To determine the type of `a`, we can simply execute `type(a)`."
   ]
  },
  {
   "cell_type": "code",
   "execution_count": 7,
   "metadata": {
    "collapsed": false
   },
   "outputs": [
    {
     "name": "stdout",
     "output_type": "stream",
     "text": [
      "<type 'int'>\n",
      "<type 'float'>\n",
      "<type 'str'>\n",
      "<type 'bool'>\n"
     ]
    }
   ],
   "source": [
    "print(type(integer_example))\n",
    "print(type(float_example))\n",
    "print(type(string_example))\n",
    "print(type(boolean_example))"
   ]
  },
  {
   "cell_type": "markdown",
   "metadata": {},
   "source": [
    "## Operations with different types"
   ]
  },
  {
   "cell_type": "markdown",
   "metadata": {},
   "source": [
    "Different types behave differently in Python. When we sum two strings, for example, we'll get different behavior than when we sum two integers or two booleans."
   ]
  },
  {
   "cell_type": "code",
   "execution_count": 8,
   "metadata": {
    "collapsed": false
   },
   "outputs": [
    {
     "name": "stdout",
     "output_type": "stream",
     "text": [
      "<type 'float'>\n",
      "compound interestcompound interest\n"
     ]
    }
   ],
   "source": [
    "# Variables to work with\n",
    "savings = 100\n",
    "factor = 1.1\n",
    "desc = \"compound interest\"\n",
    "\n",
    "# Assign product of factor and savings to year1 and print its type\n",
    "year1 = factor * savings\n",
    "print(type(year1))\n",
    "\n",
    "# Assign sum of desc and desc to doubledesc and print it\n",
    "doubledesc = desc + desc\n",
    "print(doubledesc)"
   ]
  },
  {
   "cell_type": "markdown",
   "metadata": {},
   "source": [
    "## Type conversation"
   ]
  },
  {
   "cell_type": "markdown",
   "metadata": {},
   "source": [
    "Using the `+` operator to paste together two strings can be very useful in building custom messages.\n",
    "\n",
    "Suppose, for example, that we've calculated the return of our investment and want to summarize the results in a string. Assuming the floats `savings` and `result` are defined, we can try:"
   ]
  },
  {
   "cell_type": "code",
   "execution_count": 9,
   "metadata": {
    "collapsed": false
   },
   "outputs": [
    {
     "ename": "TypeError",
     "evalue": "cannot concatenate 'str' and 'int' objects",
     "output_type": "error",
     "traceback": [
      "\u001b[0;31m---------------------------------------------------------------------------\u001b[0m",
      "\u001b[0;31mTypeError\u001b[0m                                 Traceback (most recent call last)",
      "\u001b[0;32m<ipython-input-9-4afdebba2b21>\u001b[0m in \u001b[0;36m<module>\u001b[0;34m()\u001b[0m\n\u001b[0;32m----> 1\u001b[0;31m \u001b[1;32mprint\u001b[0m\u001b[1;33m(\u001b[0m\u001b[1;34m\"I started with $\"\u001b[0m \u001b[1;33m+\u001b[0m \u001b[0msavings\u001b[0m \u001b[1;33m+\u001b[0m \u001b[1;34m\" and now have $\"\u001b[0m \u001b[1;33m+\u001b[0m \u001b[0mresult\u001b[0m \u001b[1;33m+\u001b[0m \u001b[1;34m\". Awesome!\"\u001b[0m\u001b[1;33m)\u001b[0m\u001b[1;33m\u001b[0m\u001b[0m\n\u001b[0m",
      "\u001b[0;31mTypeError\u001b[0m: cannot concatenate 'str' and 'int' objects"
     ]
    }
   ],
   "source": [
    "print(\"I started with $\" + savings + \" and now have $\" + result + \". Awesome!\")"
   ]
  },
  {
   "cell_type": "markdown",
   "metadata": {},
   "source": [
    "This does not work, though, as we cannot simply sum strings and floats.\n",
    "\n",
    "To fix the error, we'll need to explicitly convert the types of our variables. More specifically, we'll need `str()` to convert a value to a string. `str(savings)`, for example, will convert the float `savings` to a string.\n",
    "\n",
    "Similar functions such as `int()`,  `float()` and `bool()` will help you convert Python values into any type."
   ]
  },
  {
   "cell_type": "code",
   "execution_count": 10,
   "metadata": {
    "collapsed": false
   },
   "outputs": [
    {
     "name": "stdout",
     "output_type": "stream",
     "text": [
      "I started with $100  and now have $161.05. Awesome!\n"
     ]
    }
   ],
   "source": [
    "# Fix the printout\n",
    "print(\"I started with $\" + str(savings) + \"  and now have $\" + str(result) + \". Awesome!\")"
   ]
  },
  {
   "cell_type": "markdown",
   "metadata": {
    "collapsed": true
   },
   "source": [
    "# Python Lists "
   ]
  },
  {
   "cell_type": "markdown",
   "metadata": {},
   "source": [
    "## Create a list"
   ]
  },
  {
   "cell_type": "markdown",
   "metadata": {},
   "source": [
    "As opposed to `int`, `bool` etc., a list is a **compound data type**; you can group values together."
   ]
  },
  {
   "cell_type": "markdown",
   "metadata": {},
   "source": [
    "After measuring the height of your family, you decide to collect some information on the house you're living in. The areas of the different parts of the house are stored in separate variables for now, as shown below:"
   ]
  },
  {
   "cell_type": "code",
   "execution_count": 11,
   "metadata": {
    "collapsed": false
   },
   "outputs": [
    {
     "name": "stdout",
     "output_type": "stream",
     "text": [
      "[11.25, 18.0, 20.0, 10.75, 9.5]\n"
     ]
    }
   ],
   "source": [
    "# Area variables in square meters\n",
    "hall = 11.25\n",
    "kit = 18.0\n",
    "liv = 20.0\n",
    "bed = 10.75\n",
    "bath = 9.50\n",
    "\n",
    "# Create list areas\n",
    "areas = [hall, kit, liv, bed, bath]\n",
    "\n",
    "# Print areas\n",
    "print(areas)"
   ]
  },
  {
   "cell_type": "markdown",
   "metadata": {},
   "source": [
    "## Create list with different types"
   ]
  },
  {
   "cell_type": "markdown",
   "metadata": {},
   "source": [
    "A lit can contain any Python type. Although it's not really common, a list can also contain a mix of Python types including strings, floats, booleans, etc.\n",
    "\n",
    "The printout of the previous code cell wasn't really satisfying. It's just a list of numbers representing the areas, but we can't tell which area corresponds to which part of the house. \n",
    "\n",
    "The code below is the start of a solution:"
   ]
  },
  {
   "cell_type": "code",
   "execution_count": 12,
   "metadata": {
    "collapsed": false
   },
   "outputs": [
    {
     "name": "stdout",
     "output_type": "stream",
     "text": [
      "['hallway', 11.25, 'kitchen', 18.0, 'living room', 20.0, 'bedroom', 10.75, 'bathroom', 9.5]\n"
     ]
    }
   ],
   "source": [
    "# The beginning of a solution\n",
    "areas = [\"hallway\", hall, \"kitchen\", kit, \"living room\", liv, \"bedroom\", bed, \"bathroom\", bath]\n",
    "\n",
    "# Print areas\n",
    "print(areas)"
   ]
  },
  {
   "cell_type": "markdown",
   "metadata": {},
   "source": [
    "## List of lists"
   ]
  },
  {
   "cell_type": "markdown",
   "metadata": {},
   "source": [
    "As a data scientist, you'll often be dealing with a lot of data, and it will make sense to group some of this data.\n",
    "\n",
    "Instead of creating a flat list containing strings and floats, representing the names and areas of the rooms in the house, we can create a list of lists. The code below can already give us an idea:"
   ]
  },
  {
   "cell_type": "code",
   "execution_count": 13,
   "metadata": {
    "collapsed": false
   },
   "outputs": [
    {
     "name": "stdout",
     "output_type": "stream",
     "text": [
      "[['hallway', 11.25], ['kitchen', 18.0], ['living room', 20.0], ['bedroom', 10.75], ['bathroom', 9.5]]\n"
     ]
    }
   ],
   "source": [
    "# House information as a list of lists\n",
    "house = [[\"hallway\", hall],\n",
    "         [\"kitchen\", kit],\n",
    "         [\"living room\", liv],\n",
    "         [\"bedroom\", bed],\n",
    "         [\"bathroom\", bath]]\n",
    "\n",
    "# Print house\n",
    "print(house)"
   ]
  },
  {
   "cell_type": "markdown",
   "metadata": {},
   "source": [
    "## Subset and conquer"
   ]
  },
  {
   "cell_type": "markdown",
   "metadata": {},
   "source": [
    "Subsetting Python lists is a piece of cake. The code below, for example, creates a list `x` and than selects \"b\" from it. Notice that this is the second element, so it has index 1, and we can also use negative indexing."
   ]
  },
  {
   "cell_type": "code",
   "execution_count": 14,
   "metadata": {
    "collapsed": false
   },
   "outputs": [
    {
     "name": "stdout",
     "output_type": "stream",
     "text": [
      "b\n",
      "b\n"
     ]
    }
   ],
   "source": [
    "# Create list x\n",
    "x = [\"a\", \"b\", \"c\", \"d\"]\n",
    "\n",
    "# Print second element of x\n",
    "print(x[1])\n",
    "\n",
    "# Print second element of x using negative indexing\n",
    "print(x[-3])"
   ]
  },
  {
   "cell_type": "markdown",
   "metadata": {},
   "source": [
    "Using the first `areas` list, that contains both strings and floats, we'll do some subsetting in the code cell below:"
   ]
  },
  {
   "cell_type": "code",
   "execution_count": 15,
   "metadata": {
    "collapsed": false
   },
   "outputs": [
    {
     "name": "stdout",
     "output_type": "stream",
     "text": [
      "11.25\n",
      "9.5\n",
      "20.0\n"
     ]
    }
   ],
   "source": [
    "# Definition of areas\n",
    "areas = [\"hallway\", hall, \"kitchen\", kit, \"living room\", liv, \"bedroom\", bed, \"bathroom\", bath]\n",
    "\n",
    "# Print second element from areas\n",
    "print(areas[1])\n",
    "\n",
    "# Print last element from areas using negative indexing\n",
    "print(areas[-1])\n",
    "\n",
    "# Print the area of the living room\n",
    "print(areas[5])"
   ]
  },
  {
   "cell_type": "markdown",
   "metadata": {},
   "source": [
    "## Subset and calculate"
   ]
  },
  {
   "cell_type": "markdown",
   "metadata": {},
   "source": [
    "After we've extracted values from a list, we can use them to perform additional calculations.\n",
    "\n",
    "The code cell below extracts the second and the fourth elements of x. The strings tha result are pasted together using the `+` operator."
   ]
  },
  {
   "cell_type": "code",
   "execution_count": 16,
   "metadata": {
    "collapsed": false
   },
   "outputs": [
    {
     "name": "stdout",
     "output_type": "stream",
     "text": [
      "bd\n"
     ]
    }
   ],
   "source": [
    "# Print the sum of the second and the fourth element of x\n",
    "print(x[1] + x[3])"
   ]
  },
  {
   "cell_type": "markdown",
   "metadata": {},
   "source": [
    "Now, using a combination of list subsetting and variable assignment, we'll create a new variable that contains the sum of the areas of the kitchen and the area of the bedroom:"
   ]
  },
  {
   "cell_type": "code",
   "execution_count": 17,
   "metadata": {
    "collapsed": false
   },
   "outputs": [
    {
     "name": "stdout",
     "output_type": "stream",
     "text": [
      "28.75\n"
     ]
    }
   ],
   "source": [
    "# Create eat_sleep_area variable and print it\n",
    "eat_sleep_area = areas[3] + areas[7]\n",
    "print(eat_sleep_area)"
   ]
  },
  {
   "cell_type": "markdown",
   "metadata": {},
   "source": [
    "## Slicing and dicing"
   ]
  },
  {
   "cell_type": "markdown",
   "metadata": {},
   "source": [
    "Selecting single values from a list is just one part of the story. It's also possible to *slice* a list, which means selecting multiple elements of it, using the following sintax: `my_list[start:end]`. The `start` index will be included, while the `end` index will *not*.\n",
    "\n",
    "The code cell below show an example. A list with `b` and `c`, corresponding to indexes 1 and 2, is selected from x. Notice that the elements with index 1 and 2 are included, while the element with index 3 is not."
   ]
  },
  {
   "cell_type": "code",
   "execution_count": 18,
   "metadata": {
    "collapsed": false
   },
   "outputs": [
    {
     "name": "stdout",
     "output_type": "stream",
     "text": [
      "['b', 'c']\n"
     ]
    }
   ],
   "source": [
    "print(x[1:3])"
   ]
  },
  {
   "cell_type": "markdown",
   "metadata": {},
   "source": [
    "It's also possible not to specify where to begin and end the slice of the list. If we don't specify the `begin` index, Python figures out that we want to start our slice at the beginning of the list. If we don't specify the `end` index, whe slice will go all the way to the last element of the list.\n",
    "\n",
    "Below, we'll use slicing to create both downstairs and upstairs lists from areas list:"
   ]
  },
  {
   "cell_type": "code",
   "execution_count": 19,
   "metadata": {
    "collapsed": false
   },
   "outputs": [
    {
     "name": "stdout",
     "output_type": "stream",
     "text": [
      "['hallway', 11.25, 'kitchen', 18.0, 'living room', 20.0]\n",
      "['bedroom', 10.75, 'bathroom', 9.5]\n"
     ]
    }
   ],
   "source": [
    "# Create and print downstairs, that contains the first 6 elements of areas\n",
    "downstairs = areas[:6]\n",
    "print(downstairs)\n",
    "\n",
    "# Create and print upstairs, that contains the last 6 elements of areas\n",
    "upstairs = areas[6:]\n",
    "print(upstairs)"
   ]
  },
  {
   "cell_type": "markdown",
   "metadata": {},
   "source": [
    "## Subsetting lists of lists"
   ]
  },
  {
   "cell_type": "markdown",
   "metadata": {},
   "source": [
    "We saw before that a Python list can contain pratically anything, even other lists. To subset lists of lists, we can use the same technique as before: square brackets."
   ]
  },
  {
   "cell_type": "code",
   "execution_count": 20,
   "metadata": {
    "collapsed": false
   },
   "outputs": [
    {
     "name": "stdout",
     "output_type": "stream",
     "text": [
      "g\n",
      "['g', 'h']\n"
     ]
    }
   ],
   "source": [
    "# Define x\n",
    "x = [[\"a\", \"b\", \"c\"],\n",
    "     [\"d\", \"e\", \"f\"],\n",
    "     [\"g\", \"h\", \"i\"]]\n",
    "\n",
    "# Examples of subsetting x\n",
    "print(x[2][0])\n",
    "print(x[2][:2])"
   ]
  },
  {
   "cell_type": "markdown",
   "metadata": {},
   "source": [
    "Using the house list of lists again, `house[-1][1]` will return the bathroom area:"
   ]
  },
  {
   "cell_type": "code",
   "execution_count": 21,
   "metadata": {
    "collapsed": false
   },
   "outputs": [
    {
     "name": "stdout",
     "output_type": "stream",
     "text": [
      "9.5\n"
     ]
    }
   ],
   "source": [
    "# Define house as a list of lists\n",
    "house = [[\"hallway\", hall],\n",
    "         [\"kitchen\", kit],\n",
    "         [\"living room\", liv],\n",
    "         [\"bedroom\", bed],\n",
    "         [\"bathroom\", bath]]\n",
    "\n",
    "# Subset house\n",
    "print(house[-1][1])"
   ]
  },
  {
   "cell_type": "markdown",
   "metadata": {},
   "source": [
    "## Replace list elements"
   ]
  },
  {
   "cell_type": "markdown",
   "metadata": {},
   "source": [
    "Replacing list elements is pretty easy. Simply subset the list and assign new values to the subset. We can select single elements or we can change entire list slices at once:"
   ]
  },
  {
   "cell_type": "code",
   "execution_count": 22,
   "metadata": {
    "collapsed": false
   },
   "outputs": [
    {
     "name": "stdout",
     "output_type": "stream",
     "text": [
      "['a', 'b', 'c', 'd']\n",
      "['a', 'r', 's', 't']\n"
     ]
    }
   ],
   "source": [
    "# Create and print x\n",
    "x = [\"a\", \"b\", \"c\", \"d\"]\n",
    "print(x)\n",
    "\n",
    "# Replace some elements and print x\n",
    "x[1] = \"r\"\n",
    "x[2:] = [\"s\", \"t\"]\n",
    "print(x)"
   ]
  },
  {
   "cell_type": "markdown",
   "metadata": {},
   "source": [
    "Below, we will replace elements in the `areas` list."
   ]
  },
  {
   "cell_type": "code",
   "execution_count": 24,
   "metadata": {
    "collapsed": false
   },
   "outputs": [
    {
     "name": "stdout",
     "output_type": "stream",
     "text": [
      "['hallway', 11.25, 'kitchen', 18.0, 'chill zone', 20.0, 'bedroom', 10.75, 'bathroom', 10.5]\n"
     ]
    }
   ],
   "source": [
    "# Create areas list\n",
    "areas = [\"hallway\", 11.25, \"kitchen\", 18.0, \"living room\", 20.0, \"bedroom\", 10.75, \"bathroom\", 9.50]\n",
    "\n",
    "# Replace bathroom area\n",
    "areas[-1] = 10.50\n",
    "\n",
    "# Replace living room description\n",
    "areas[4] = \"chill zone\"\n",
    "\n",
    "# Print areas\n",
    "print(areas)"
   ]
  },
  {
   "cell_type": "markdown",
   "metadata": {},
   "source": [
    "## Extend a list"
   ]
  },
  {
   "cell_type": "markdown",
   "metadata": {},
   "source": [
    "We can use the `+` operator to add elements to a list."
   ]
  },
  {
   "cell_type": "code",
   "execution_count": 25,
   "metadata": {
    "collapsed": false
   },
   "outputs": [
    {
     "name": "stdout",
     "output_type": "stream",
     "text": [
      "['a', 'b', 'c', 'd', 'e', 'f']\n"
     ]
    }
   ],
   "source": [
    "# Create x\n",
    "x = [\"a\", \"b\", \"c\", \"d\"]\n",
    "\n",
    "# Extends x\n",
    "x = x + [\"e\", \"f\"]\n",
    "\n",
    "# Print x\n",
    "print(x)"
   ]
  },
  {
   "cell_type": "markdown",
   "metadata": {},
   "source": [
    "Below, we will add poolhouse and garage to the areas list:"
   ]
  },
  {
   "cell_type": "code",
   "execution_count": 28,
   "metadata": {
    "collapsed": false
   },
   "outputs": [
    {
     "name": "stdout",
     "output_type": "stream",
     "text": [
      "['hallway', 11.25, 'kitchen', 18.0, 'chill zone', 20.0, 'bedroom', 10.75, 'bathroom', 10.5]\n",
      "['hallway', 11.25, 'kitchen', 18.0, 'chill zone', 20.0, 'bedroom', 10.75, 'bathroom', 10.5, 'poolhouse', 24.5, 'garage', 15.45]\n"
     ]
    }
   ],
   "source": [
    "# Print areas\n",
    "print(areas)\n",
    "\n",
    "# Extends areas list\n",
    "areas = areas + [\"poolhouse\", 24.5, \"garage\", 15.45]\n",
    "\n",
    "# Print areas (extedend)\n",
    "print(areas)"
   ]
  },
  {
   "cell_type": "markdown",
   "metadata": {},
   "source": [
    "## Delete list elements"
   ]
  },
  {
   "cell_type": "markdown",
   "metadata": {},
   "source": [
    "We can use `del` statement to remove elements from a list. Notice that as soon as we remove an element from a list, the indexes of the elements that come after the deleted element all change."
   ]
  },
  {
   "cell_type": "code",
   "execution_count": 29,
   "metadata": {
    "collapsed": false
   },
   "outputs": [
    {
     "name": "stdout",
     "output_type": "stream",
     "text": [
      "['a', 'c', 'd']\n"
     ]
    }
   ],
   "source": [
    "# Create x\n",
    "x = [\"a\", \"b\", \"c\", \"d\"]\n",
    "\n",
    "# Remove the second element of x\n",
    "del(x[1])\n",
    "\n",
    "# Print x\n",
    "print(x)"
   ]
  },
  {
   "cell_type": "markdown",
   "metadata": {},
   "source": [
    "Suppose we don't have a poolhouse. We can delete it from our areas list as follows:"
   ]
  },
  {
   "cell_type": "code",
   "execution_count": 30,
   "metadata": {
    "collapsed": false
   },
   "outputs": [
    {
     "name": "stdout",
     "output_type": "stream",
     "text": [
      "['hallway', 11.25, 'kitchen', 18.0, 'chill zone', 20.0, 'bedroom', 10.75, 'bathroom', 10.5, 'poolhouse', 24.5, 'garage', 15.45]\n",
      "['hallway', 11.25, 'kitchen', 18.0, 'chill zone', 20.0, 'bedroom', 10.75, 'bathroom', 10.5, 'garage', 15.45]\n"
     ]
    }
   ],
   "source": [
    "# Print areas\n",
    "print(areas)\n",
    "\n",
    "# Remove poolhouse from the list\n",
    "del(areas[-4])\n",
    "del(areas[-3])\n",
    "\n",
    "# Print areas (after deleting poolhouse and its area)\n",
    "print(areas)"
   ]
  },
  {
   "cell_type": "markdown",
   "metadata": {},
   "source": [
    "## Inner working of lists"
   ]
  },
  {
   "cell_type": "markdown",
   "metadata": {},
   "source": []
  }
 ],
 "metadata": {
  "anaconda-cloud": {},
  "kernelspec": {
   "display_name": "Python [default]",
   "language": "python",
   "name": "python2"
  },
  "language_info": {
   "codemirror_mode": {
    "name": "ipython",
    "version": 2
   },
   "file_extension": ".py",
   "mimetype": "text/x-python",
   "name": "python",
   "nbconvert_exporter": "python",
   "pygments_lexer": "ipython2",
   "version": "2.7.12"
  }
 },
 "nbformat": 4,
 "nbformat_minor": 1
}
