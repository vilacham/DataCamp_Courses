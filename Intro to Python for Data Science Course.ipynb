{
 "cells": [
  {
   "cell_type": "markdown",
   "metadata": {},
   "source": [
    "# Python Basics"
   ]
  },
  {
   "cell_type": "markdown",
   "metadata": {},
   "source": [
    "## When to use Python?"
   ]
  },
  {
   "cell_type": "markdown",
   "metadata": {},
   "source": [
    "Python is a pretty versatile language. It is useful, for instance, for the following applications:\n",
    "* Quick calculations\n",
    "* Develop a database-driven website\n",
    "* Clean and analyze results of a satisfaction survey"
   ]
  },
  {
   "cell_type": "markdown",
   "metadata": {},
   "source": [
    "## Comments"
   ]
  },
  {
   "cell_type": "markdown",
   "metadata": {},
   "source": [
    "We can add **comments** to our Python scripts. Comments are important to make sure that you and others can understand what your code is about.\n",
    "\n",
    "To add comments to our Python script, we can use the `#` tag. These comments are not run as Python code, so they will not influence our result."
   ]
  },
  {
   "cell_type": "code",
   "execution_count": 2,
   "metadata": {
    "collapsed": false
   },
   "outputs": [
    {
     "name": "stdout",
     "output_type": "stream",
     "text": [
      "7 + 10 = 17\n",
      "18 - 15 = 3\n",
      "13 * 5 = 65\n",
      "5 / 8 = 0\n"
     ]
    }
   ],
   "source": [
    "# Just testing adition\n",
    "print(\"7 + 10 = {}\".format(7 + 10))\n",
    "\n",
    "# Trying subtraction\n",
    "print(\"18 - 15 = {}\".format(18 - 15))\n",
    "\n",
    "# Multiplication works\n",
    "print(\"13 * 5 = {}\".format(13 * 5))\n",
    "\n",
    "# Addition works too\n",
    "print(\"5 / 8 = {}\".format(5 / 8))"
   ]
  },
  {
   "cell_type": "markdown",
   "metadata": {},
   "source": [
    "## Python as a calculator"
   ]
  },
  {
   "cell_type": "markdown",
   "metadata": {
    "collapsed": true
   },
   "source": [
    "Python is perfectly suited to do basic calculations. Apart from addition, subtraction, multiplication and division, there is also support for more advanced operations such as:\n",
    "* Exponentiation: `**`. This operator raises the number to its left to the power of the number to its right. For example `4 ** 2` will give `16`.\n",
    "* Modulo: `%`. This operator returns the remainder of the division of the number to the left by the number on its right. For example `18 % 7` equals `4`."
   ]
  },
  {
   "cell_type": "code",
   "execution_count": 3,
   "metadata": {
    "collapsed": false
   },
   "outputs": [
    {
     "name": "stdout",
     "output_type": "stream",
     "text": [
      "4 ** 2 = 16\n",
      "18 % 7 = 4\n"
     ]
    }
   ],
   "source": [
    "# Exponentiation\n",
    "print(\"4 ** 2 = {}\".format(4 ** 2))\n",
    "\n",
    "# Modulo\n",
    "print(\"18 % 7 = {}\".format(18 % 7))"
   ]
  },
  {
   "cell_type": "markdown",
   "metadata": {},
   "source": [
    "Suppose we have $100, which we can invest with a 10% return each year.\n",
    "* After one year, it's 100 x 1.1 = 110 dollars.\n",
    "* After two years it's 100 x 1.1 x 1.1 = 121 dollars.\n",
    "\n",
    "We can calculate how much money we end up with after seven years as follows: "
   ]
  },
  {
   "cell_type": "code",
   "execution_count": 11,
   "metadata": {
    "collapsed": false
   },
   "outputs": [
    {
     "name": "stdout",
     "output_type": "stream",
     "text": [
      "194.87 dollars\n"
     ]
    }
   ],
   "source": [
    "# Amount after seven years\n",
    "amount = round(100 * (1.1 ** 7), 2)\n",
    "print(str(amount) + \" dollars\")"
   ]
  },
  {
   "cell_type": "markdown",
   "metadata": {},
   "source": [
    "## Variable assignment"
   ]
  },
  {
   "cell_type": "markdown",
   "metadata": {},
   "source": [
    "In Python, a variable allows us to refer to a value with a name. To create a variable, we use `=`, like this example:\n",
    "\n",
    "`x = 5`\n",
    "\n",
    "We can now use the name of this variable, `x`, instead of the actual value, `5`.\n",
    "\n",
    "**Remember:** `=` in Python means *assignment*, not equality!"
   ]
  },
  {
   "cell_type": "code",
   "execution_count": 12,
   "metadata": {
    "collapsed": false
   },
   "outputs": [
    {
     "name": "stdout",
     "output_type": "stream",
     "text": [
      "100\n"
     ]
    }
   ],
   "source": [
    "# Create a variable savings and assigns 100 to it\n",
    "savings = 100\n",
    "\n",
    "# Print out savings\n",
    "print(savings)"
   ]
  },
  {
   "cell_type": "markdown",
   "metadata": {},
   "source": [
    "## Calculations with variables"
   ]
  },
  {
   "cell_type": "markdown",
   "metadata": {},
   "source": [
    "Instead of calculating with values, we can use variables instead."
   ]
  },
  {
   "cell_type": "code",
   "execution_count": 13,
   "metadata": {
    "collapsed": false
   },
   "outputs": [
    {
     "name": "stdout",
     "output_type": "stream",
     "text": [
      "161.05\n"
     ]
    }
   ],
   "source": [
    "# Create a variable factor and assigns 1.1 to it\n",
    "factor = 1.1\n",
    "\n",
    "# Calculate how much money we end up with after five years\n",
    "result = round(savings * (factor ** 5), 2)\n",
    "print(result)"
   ]
  },
  {
   "cell_type": "markdown",
   "metadata": {},
   "source": [
    "## Some variable types"
   ]
  },
  {
   "cell_type": "markdown",
   "metadata": {},
   "source": [
    "* `int`, or integer: a number wothout a fractional part. `savings`, with the value of `100` is an example of an integer.\n",
    "* `float`, or floating point: a number that has both an integer and a fractional part, separated by a point. `factor`, with the value of `1.1` is an example a float.\n",
    "* `str`, or string: a type to represent text. We can use single or double quotes to build a string.\n",
    "* `bool`, or boolean: a type to represent logical values. Can only be `True` or `False` (the capitalization is important)."
   ]
  },
  {
   "cell_type": "code",
   "execution_count": 14,
   "metadata": {
    "collapsed": false
   },
   "outputs": [
    {
     "name": "stdout",
     "output_type": "stream",
     "text": [
      "An example of an integer: 10\n",
      "An example of a float: 1.25\n",
      "An example of a string: This is a string!\n",
      "An example of a boolean: True\n"
     ]
    }
   ],
   "source": [
    "# An example of an integer\n",
    "integer_example = 10\n",
    "print(\"An example of an integer: {}\".format(integer_example))\n",
    "\n",
    "# An example of a float\n",
    "float_example = 1.25\n",
    "print(\"An example of a float: {}\".format(float_example))\n",
    "\n",
    "# An example of a string\n",
    "string_example = 'This is a string!'\n",
    "print(\"An example of a string: {}\".format(string_example))\n",
    "\n",
    "# An example of a boolean\n",
    "boolean_example = True\n",
    "print(\"An example of a boolean: {}\".format(boolean_example))"
   ]
  },
  {
   "cell_type": "markdown",
   "metadata": {},
   "source": [
    "To find out the type of a value or a variable that refers to that value, we can use the `type()` function. Suppose we have defined a variable `a`, but we forgot the type of this variable. To determine the type of `a`, we can simply execute `type(a)`."
   ]
  },
  {
   "cell_type": "code",
   "execution_count": 16,
   "metadata": {
    "collapsed": false
   },
   "outputs": [
    {
     "name": "stdout",
     "output_type": "stream",
     "text": [
      "<type 'int'>\n",
      "<type 'float'>\n",
      "<type 'str'>\n",
      "<type 'bool'>\n"
     ]
    }
   ],
   "source": [
    "print(type(integer_example))\n",
    "print(type(float_example))\n",
    "print(type(string_example))\n",
    "print(type(boolean_example))"
   ]
  },
  {
   "cell_type": "markdown",
   "metadata": {},
   "source": [
    "## Operations with different types"
   ]
  },
  {
   "cell_type": "markdown",
   "metadata": {},
   "source": []
  }
 ],
 "metadata": {
  "anaconda-cloud": {},
  "kernelspec": {
   "display_name": "Python [default]",
   "language": "python",
   "name": "python2"
  },
  "language_info": {
   "codemirror_mode": {
    "name": "ipython",
    "version": 2
   },
   "file_extension": ".py",
   "mimetype": "text/x-python",
   "name": "python",
   "nbconvert_exporter": "python",
   "pygments_lexer": "ipython2",
   "version": "2.7.12"
  }
 },
 "nbformat": 4,
 "nbformat_minor": 1
}
