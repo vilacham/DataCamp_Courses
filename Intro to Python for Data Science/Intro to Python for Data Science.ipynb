{
 "cells": [
  {
   "cell_type": "markdown",
   "metadata": {},
   "source": [
    "# Python Basics"
   ]
  },
  {
   "cell_type": "markdown",
   "metadata": {},
   "source": [
    "## When to use Python?"
   ]
  },
  {
   "cell_type": "markdown",
   "metadata": {},
   "source": [
    "Python is a pretty versatile language. It is useful, for instance, for the following applications:\n",
    "* Quick calculations\n",
    "* Develop a database-driven website\n",
    "* Clean and analyze results of a satisfaction survey"
   ]
  },
  {
   "cell_type": "markdown",
   "metadata": {},
   "source": [
    "## Comments"
   ]
  },
  {
   "cell_type": "markdown",
   "metadata": {},
   "source": [
    "We can add **comments** to our Python scripts. Comments are important to make sure that you and others can understand what your code is about.\n",
    "\n",
    "To add comments to our Python script, we can use the `#` tag. These comments are not run as Python code, so they will not influence our result."
   ]
  },
  {
   "cell_type": "code",
   "execution_count": 1,
   "metadata": {},
   "outputs": [
    {
     "name": "stdout",
     "output_type": "stream",
     "text": [
      "7 + 10 = 17\n",
      "18 - 15 = 3\n",
      "13 * 5 = 65\n",
      "5 / 8 = 0.625\n"
     ]
    }
   ],
   "source": [
    "# Just testing adition\n",
    "print(\"7 + 10 = {}\".format(7 + 10))\n",
    "\n",
    "# Trying subtraction\n",
    "print(\"18 - 15 = {}\".format(18 - 15))\n",
    "\n",
    "# Multiplication works\n",
    "print(\"13 * 5 = {}\".format(13 * 5))\n",
    "\n",
    "# Addition works too\n",
    "print(\"5 / 8 = {}\".format(5 / 8))"
   ]
  },
  {
   "cell_type": "markdown",
   "metadata": {},
   "source": [
    "## Python as a calculator"
   ]
  },
  {
   "cell_type": "markdown",
   "metadata": {
    "collapsed": true
   },
   "source": [
    "Python is perfectly suited to do basic calculations. Apart from addition, subtraction, multiplication and division, there is also support for more advanced operations such as:\n",
    "* Exponentiation: `**`. This operator raises the number to its left to the power of the number to its right. For example `4 ** 2` will give `16`.\n",
    "* Modulo: `%`. This operator returns the remainder of the division of the number to the left by the number on its right. For example `18 % 7` equals `4`."
   ]
  },
  {
   "cell_type": "code",
   "execution_count": 2,
   "metadata": {},
   "outputs": [
    {
     "name": "stdout",
     "output_type": "stream",
     "text": [
      "4 ** 2 = 16\n",
      "18 % 7 = 4\n"
     ]
    }
   ],
   "source": [
    "# Exponentiation\n",
    "print(\"4 ** 2 = {}\".format(4 ** 2))\n",
    "\n",
    "# Modulo\n",
    "print(\"18 % 7 = {}\".format(18 % 7))"
   ]
  },
  {
   "cell_type": "markdown",
   "metadata": {},
   "source": [
    "Suppose we have $100, which we can invest with a 10% return each year.\n",
    "* After one year, it's 100 x 1.1 = 110 dollars.\n",
    "* After two years it's 100 x 1.1 x 1.1 = 121 dollars.\n",
    "\n",
    "We can calculate how much money we end up with after seven years as follows: "
   ]
  },
  {
   "cell_type": "code",
   "execution_count": 3,
   "metadata": {},
   "outputs": [
    {
     "name": "stdout",
     "output_type": "stream",
     "text": [
      "194.87 dollars\n"
     ]
    }
   ],
   "source": [
    "# Amount after seven years\n",
    "amount = round(100 * (1.1 ** 7), 2)\n",
    "print(str(amount) + \" dollars\")"
   ]
  },
  {
   "cell_type": "markdown",
   "metadata": {},
   "source": [
    "## Variable assignment"
   ]
  },
  {
   "cell_type": "markdown",
   "metadata": {},
   "source": [
    "In Python, a variable allows us to refer to a value with a name. To create a variable, we use `=`, like this example:\n",
    "\n",
    "`x = 5`\n",
    "\n",
    "We can now use the name of this variable, `x`, instead of the actual value, `5`.\n",
    "\n",
    "**Remember:** `=` in Python means *assignment*, not equality!"
   ]
  },
  {
   "cell_type": "code",
   "execution_count": 4,
   "metadata": {},
   "outputs": [
    {
     "name": "stdout",
     "output_type": "stream",
     "text": [
      "100\n"
     ]
    }
   ],
   "source": [
    "# Create a variable savings and assigns 100 to it\n",
    "savings = 100\n",
    "\n",
    "# Print out savings\n",
    "print(savings)"
   ]
  },
  {
   "cell_type": "markdown",
   "metadata": {},
   "source": [
    "## Calculations with variables"
   ]
  },
  {
   "cell_type": "markdown",
   "metadata": {},
   "source": [
    "Instead of calculating with values, we can use variables instead."
   ]
  },
  {
   "cell_type": "code",
   "execution_count": 5,
   "metadata": {},
   "outputs": [
    {
     "name": "stdout",
     "output_type": "stream",
     "text": [
      "161.05\n"
     ]
    }
   ],
   "source": [
    "# Create a variable factor and assigns 1.1 to it\n",
    "factor = 1.1\n",
    "\n",
    "# Calculate how much money we end up with after five years\n",
    "result = round(savings * (factor ** 5), 2)\n",
    "print(result)"
   ]
  },
  {
   "cell_type": "markdown",
   "metadata": {},
   "source": [
    "## Some variable types"
   ]
  },
  {
   "cell_type": "markdown",
   "metadata": {},
   "source": [
    "* `int`, or integer: a number wothout a fractional part. `savings`, with the value of `100` is an example of an integer.\n",
    "* `float`, or floating point: a number that has both an integer and a fractional part, separated by a point. `factor`, with the value of `1.1` is an example a float.\n",
    "* `str`, or string: a type to represent text. We can use single or double quotes to build a string.\n",
    "* `bool`, or boolean: a type to represent logical values. Can only be `True` or `False` (the capitalization is important)."
   ]
  },
  {
   "cell_type": "code",
   "execution_count": 6,
   "metadata": {},
   "outputs": [
    {
     "name": "stdout",
     "output_type": "stream",
     "text": [
      "An example of an integer: 10\n",
      "An example of a float: 1.25\n",
      "An example of a string: This is a string!\n",
      "An example of a boolean: True\n"
     ]
    }
   ],
   "source": [
    "# An example of an integer\n",
    "integer_example = 10\n",
    "print(\"An example of an integer: {}\".format(integer_example))\n",
    "\n",
    "# An example of a float\n",
    "float_example = 1.25\n",
    "print(\"An example of a float: {}\".format(float_example))\n",
    "\n",
    "# An example of a string\n",
    "string_example = 'This is a string!'\n",
    "print(\"An example of a string: {}\".format(string_example))\n",
    "\n",
    "# An example of a boolean\n",
    "boolean_example = True\n",
    "print(\"An example of a boolean: {}\".format(boolean_example))"
   ]
  },
  {
   "cell_type": "markdown",
   "metadata": {},
   "source": [
    "To find out the type of a value or a variable that refers to that value, we can use the `type()` function. Suppose we have defined a variable `a`, but we forgot the type of this variable. To determine the type of `a`, we can simply execute `type(a)`."
   ]
  },
  {
   "cell_type": "code",
   "execution_count": 7,
   "metadata": {},
   "outputs": [
    {
     "name": "stdout",
     "output_type": "stream",
     "text": [
      "<class 'int'>\n",
      "<class 'float'>\n",
      "<class 'str'>\n",
      "<class 'bool'>\n"
     ]
    }
   ],
   "source": [
    "print(type(integer_example))\n",
    "print(type(float_example))\n",
    "print(type(string_example))\n",
    "print(type(boolean_example))"
   ]
  },
  {
   "cell_type": "markdown",
   "metadata": {},
   "source": [
    "## Operations with different types"
   ]
  },
  {
   "cell_type": "markdown",
   "metadata": {},
   "source": [
    "Different types behave differently in Python. When we sum two strings, for example, we'll get different behavior than when we sum two integers or two booleans."
   ]
  },
  {
   "cell_type": "code",
   "execution_count": 8,
   "metadata": {},
   "outputs": [
    {
     "name": "stdout",
     "output_type": "stream",
     "text": [
      "<class 'float'>\n",
      "compound interestcompound interest\n"
     ]
    }
   ],
   "source": [
    "# Variables to work with\n",
    "savings = 100\n",
    "factor = 1.1\n",
    "desc = \"compound interest\"\n",
    "\n",
    "# Assign product of factor and savings to year1 and print its type\n",
    "year1 = factor * savings\n",
    "print(type(year1))\n",
    "\n",
    "# Assign sum of desc and desc to doubledesc and print it\n",
    "doubledesc = desc + desc\n",
    "print(doubledesc)"
   ]
  },
  {
   "cell_type": "markdown",
   "metadata": {},
   "source": [
    "## Type conversation"
   ]
  },
  {
   "cell_type": "markdown",
   "metadata": {},
   "source": [
    "Using the `+` operator to paste together two strings can be very useful in building custom messages.\n",
    "\n",
    "Suppose, for example, that we've calculated the return of our investment and want to summarize the results in a string. Assuming the floats `savings` and `result` are defined, we can try:"
   ]
  },
  {
   "cell_type": "code",
   "execution_count": 9,
   "metadata": {},
   "outputs": [
    {
     "ename": "TypeError",
     "evalue": "must be str, not int",
     "output_type": "error",
     "traceback": [
      "\u001b[1;31m---------------------------------------------------------------------------\u001b[0m",
      "\u001b[1;31mTypeError\u001b[0m                                 Traceback (most recent call last)",
      "\u001b[1;32m<ipython-input-9-4afdebba2b21>\u001b[0m in \u001b[0;36m<module>\u001b[1;34m()\u001b[0m\n\u001b[1;32m----> 1\u001b[1;33m \u001b[0mprint\u001b[0m\u001b[1;33m(\u001b[0m\u001b[1;34m\"I started with $\"\u001b[0m \u001b[1;33m+\u001b[0m \u001b[0msavings\u001b[0m \u001b[1;33m+\u001b[0m \u001b[1;34m\" and now have $\"\u001b[0m \u001b[1;33m+\u001b[0m \u001b[0mresult\u001b[0m \u001b[1;33m+\u001b[0m \u001b[1;34m\". Awesome!\"\u001b[0m\u001b[1;33m)\u001b[0m\u001b[1;33m\u001b[0m\u001b[0m\n\u001b[0m",
      "\u001b[1;31mTypeError\u001b[0m: must be str, not int"
     ]
    }
   ],
   "source": [
    "print(\"I started with $\" + savings + \" and now have $\" + result + \". Awesome!\")"
   ]
  },
  {
   "cell_type": "markdown",
   "metadata": {},
   "source": [
    "This does not work, though, as we cannot simply sum strings and floats.\n",
    "\n",
    "To fix the error, we'll need to explicitly convert the types of our variables. More specifically, we'll need `str()` to convert a value to a string. `str(savings)`, for example, will convert the float `savings` to a string.\n",
    "\n",
    "Similar functions such as `int()`,  `float()` and `bool()` will help you convert Python values into any type."
   ]
  },
  {
   "cell_type": "code",
   "execution_count": 10,
   "metadata": {},
   "outputs": [
    {
     "name": "stdout",
     "output_type": "stream",
     "text": [
      "I started with $100  and now have $161.05. Awesome!\n"
     ]
    }
   ],
   "source": [
    "# Fix the printout\n",
    "print(\"I started with $\" + str(savings) + \"  and now have $\" + str(result) + \". Awesome!\")"
   ]
  },
  {
   "cell_type": "markdown",
   "metadata": {
    "collapsed": true
   },
   "source": [
    "# Python Lists "
   ]
  },
  {
   "cell_type": "markdown",
   "metadata": {},
   "source": [
    "## Create a list"
   ]
  },
  {
   "cell_type": "markdown",
   "metadata": {},
   "source": [
    "As opposed to `int`, `bool` etc., a list is a **compound data type**; you can group values together."
   ]
  },
  {
   "cell_type": "markdown",
   "metadata": {},
   "source": [
    "After measuring the height of your family, you decide to collect some information on the house you're living in. The areas of the different parts of the house are stored in separate variables for now, as shown below:"
   ]
  },
  {
   "cell_type": "code",
   "execution_count": 11,
   "metadata": {},
   "outputs": [
    {
     "name": "stdout",
     "output_type": "stream",
     "text": [
      "[11.25, 18.0, 20.0, 10.75, 9.5]\n"
     ]
    }
   ],
   "source": [
    "# Area variables in square meters\n",
    "hall = 11.25\n",
    "kit = 18.0\n",
    "liv = 20.0\n",
    "bed = 10.75\n",
    "bath = 9.50\n",
    "\n",
    "# Create list areas\n",
    "areas = [hall, kit, liv, bed, bath]\n",
    "\n",
    "# Print areas\n",
    "print(areas)"
   ]
  },
  {
   "cell_type": "markdown",
   "metadata": {},
   "source": [
    "## Create list with different types"
   ]
  },
  {
   "cell_type": "markdown",
   "metadata": {},
   "source": [
    "A lit can contain any Python type. Although it's not really common, a list can also contain a mix of Python types including strings, floats, booleans, etc.\n",
    "\n",
    "The printout of the previous code cell wasn't really satisfying. It's just a list of numbers representing the areas, but we can't tell which area corresponds to which part of the house. \n",
    "\n",
    "The code below is the start of a solution:"
   ]
  },
  {
   "cell_type": "code",
   "execution_count": 12,
   "metadata": {},
   "outputs": [
    {
     "name": "stdout",
     "output_type": "stream",
     "text": [
      "['hallway', 11.25, 'kitchen', 18.0, 'living room', 20.0, 'bedroom', 10.75, 'bathroom', 9.5]\n"
     ]
    }
   ],
   "source": [
    "# The beginning of a solution\n",
    "areas = [\"hallway\", hall, \"kitchen\", kit, \"living room\", liv, \"bedroom\", bed, \"bathroom\", bath]\n",
    "\n",
    "# Print areas\n",
    "print(areas)"
   ]
  },
  {
   "cell_type": "markdown",
   "metadata": {},
   "source": [
    "## List of lists"
   ]
  },
  {
   "cell_type": "markdown",
   "metadata": {},
   "source": [
    "As a data scientist, you'll often be dealing with a lot of data, and it will make sense to group some of this data.\n",
    "\n",
    "Instead of creating a flat list containing strings and floats, representing the names and areas of the rooms in the house, we can create a list of lists. The code below can already give us an idea:"
   ]
  },
  {
   "cell_type": "code",
   "execution_count": 13,
   "metadata": {},
   "outputs": [
    {
     "name": "stdout",
     "output_type": "stream",
     "text": [
      "[['hallway', 11.25], ['kitchen', 18.0], ['living room', 20.0], ['bedroom', 10.75], ['bathroom', 9.5]]\n"
     ]
    }
   ],
   "source": [
    "# House information as a list of lists\n",
    "house = [[\"hallway\", hall],\n",
    "         [\"kitchen\", kit],\n",
    "         [\"living room\", liv],\n",
    "         [\"bedroom\", bed],\n",
    "         [\"bathroom\", bath]]\n",
    "\n",
    "# Print house\n",
    "print(house)"
   ]
  },
  {
   "cell_type": "markdown",
   "metadata": {},
   "source": [
    "## Subset and conquer"
   ]
  },
  {
   "cell_type": "markdown",
   "metadata": {},
   "source": [
    "Subsetting Python lists is a piece of cake. The code below, for example, creates a list `x` and than selects \"b\" from it. Notice that this is the second element, so it has index 1, and we can also use negative indexing."
   ]
  },
  {
   "cell_type": "code",
   "execution_count": 14,
   "metadata": {},
   "outputs": [
    {
     "name": "stdout",
     "output_type": "stream",
     "text": [
      "b\n",
      "b\n"
     ]
    }
   ],
   "source": [
    "# Create list x\n",
    "x = [\"a\", \"b\", \"c\", \"d\"]\n",
    "\n",
    "# Print second element of x\n",
    "print(x[1])\n",
    "\n",
    "# Print second element of x using negative indexing\n",
    "print(x[-3])"
   ]
  },
  {
   "cell_type": "markdown",
   "metadata": {},
   "source": [
    "Using the first `areas` list, that contains both strings and floats, we'll do some subsetting in the code cell below:"
   ]
  },
  {
   "cell_type": "code",
   "execution_count": 15,
   "metadata": {},
   "outputs": [
    {
     "name": "stdout",
     "output_type": "stream",
     "text": [
      "11.25\n",
      "9.5\n",
      "20.0\n"
     ]
    }
   ],
   "source": [
    "# Definition of areas\n",
    "areas = [\"hallway\", hall, \"kitchen\", kit, \"living room\", liv, \"bedroom\", bed, \"bathroom\", bath]\n",
    "\n",
    "# Print second element from areas\n",
    "print(areas[1])\n",
    "\n",
    "# Print last element from areas using negative indexing\n",
    "print(areas[-1])\n",
    "\n",
    "# Print the area of the living room\n",
    "print(areas[5])"
   ]
  },
  {
   "cell_type": "markdown",
   "metadata": {},
   "source": [
    "## Subset and calculate"
   ]
  },
  {
   "cell_type": "markdown",
   "metadata": {},
   "source": [
    "After we've extracted values from a list, we can use them to perform additional calculations.\n",
    "\n",
    "The code cell below extracts the second and the fourth elements of x. The strings tha result are pasted together using the `+` operator."
   ]
  },
  {
   "cell_type": "code",
   "execution_count": 16,
   "metadata": {},
   "outputs": [
    {
     "name": "stdout",
     "output_type": "stream",
     "text": [
      "bd\n"
     ]
    }
   ],
   "source": [
    "# Print the sum of the second and the fourth element of x\n",
    "print(x[1] + x[3])"
   ]
  },
  {
   "cell_type": "markdown",
   "metadata": {},
   "source": [
    "Now, using a combination of list subsetting and variable assignment, we'll create a new variable that contains the sum of the areas of the kitchen and the area of the bedroom:"
   ]
  },
  {
   "cell_type": "code",
   "execution_count": 17,
   "metadata": {},
   "outputs": [
    {
     "name": "stdout",
     "output_type": "stream",
     "text": [
      "28.75\n"
     ]
    }
   ],
   "source": [
    "# Create eat_sleep_area variable and print it\n",
    "eat_sleep_area = areas[3] + areas[7]\n",
    "print(eat_sleep_area)"
   ]
  },
  {
   "cell_type": "markdown",
   "metadata": {},
   "source": [
    "## Slicing and dicing"
   ]
  },
  {
   "cell_type": "markdown",
   "metadata": {},
   "source": [
    "Selecting single values from a list is just one part of the story. It's also possible to *slice* a list, which means selecting multiple elements of it, using the following sintax: `my_list[start:end]`. The `start` index will be included, while the `end` index will *not*.\n",
    "\n",
    "The code cell below show an example. A list with `b` and `c`, corresponding to indexes 1 and 2, is selected from x. Notice that the elements with index 1 and 2 are included, while the element with index 3 is not."
   ]
  },
  {
   "cell_type": "code",
   "execution_count": 18,
   "metadata": {},
   "outputs": [
    {
     "name": "stdout",
     "output_type": "stream",
     "text": [
      "['b', 'c']\n"
     ]
    }
   ],
   "source": [
    "print(x[1:3])"
   ]
  },
  {
   "cell_type": "markdown",
   "metadata": {},
   "source": [
    "It's also possible not to specify where to begin and end the slice of the list. If we don't specify the `begin` index, Python figures out that we want to start our slice at the beginning of the list. If we don't specify the `end` index, whe slice will go all the way to the last element of the list.\n",
    "\n",
    "Below, we'll use slicing to create both downstairs and upstairs lists from areas list:"
   ]
  },
  {
   "cell_type": "code",
   "execution_count": 19,
   "metadata": {},
   "outputs": [
    {
     "name": "stdout",
     "output_type": "stream",
     "text": [
      "['hallway', 11.25, 'kitchen', 18.0, 'living room', 20.0]\n",
      "['bedroom', 10.75, 'bathroom', 9.5]\n"
     ]
    }
   ],
   "source": [
    "# Create and print downstairs, that contains the first 6 elements of areas\n",
    "downstairs = areas[:6]\n",
    "print(downstairs)\n",
    "\n",
    "# Create and print upstairs, that contains the last 6 elements of areas\n",
    "upstairs = areas[6:]\n",
    "print(upstairs)"
   ]
  },
  {
   "cell_type": "markdown",
   "metadata": {},
   "source": [
    "## Subsetting lists of lists"
   ]
  },
  {
   "cell_type": "markdown",
   "metadata": {},
   "source": [
    "We saw before that a Python list can contain pratically anything, even other lists. To subset lists of lists, we can use the same technique as before: square brackets."
   ]
  },
  {
   "cell_type": "code",
   "execution_count": 20,
   "metadata": {},
   "outputs": [
    {
     "name": "stdout",
     "output_type": "stream",
     "text": [
      "g\n",
      "['g', 'h']\n"
     ]
    }
   ],
   "source": [
    "# Define x\n",
    "x = [[\"a\", \"b\", \"c\"],\n",
    "     [\"d\", \"e\", \"f\"],\n",
    "     [\"g\", \"h\", \"i\"]]\n",
    "\n",
    "# Examples of subsetting x\n",
    "print(x[2][0])\n",
    "print(x[2][:2])"
   ]
  },
  {
   "cell_type": "markdown",
   "metadata": {},
   "source": [
    "Using the house list of lists again, `house[-1][1]` will return the bathroom area:"
   ]
  },
  {
   "cell_type": "code",
   "execution_count": 21,
   "metadata": {},
   "outputs": [
    {
     "name": "stdout",
     "output_type": "stream",
     "text": [
      "9.5\n"
     ]
    }
   ],
   "source": [
    "# Define house as a list of lists\n",
    "house = [[\"hallway\", hall],\n",
    "         [\"kitchen\", kit],\n",
    "         [\"living room\", liv],\n",
    "         [\"bedroom\", bed],\n",
    "         [\"bathroom\", bath]]\n",
    "\n",
    "# Subset house\n",
    "print(house[-1][1])"
   ]
  },
  {
   "cell_type": "markdown",
   "metadata": {},
   "source": [
    "## Replace list elements"
   ]
  },
  {
   "cell_type": "markdown",
   "metadata": {},
   "source": [
    "Replacing list elements is pretty easy. Simply subset the list and assign new values to the subset. We can select single elements or we can change entire list slices at once:"
   ]
  },
  {
   "cell_type": "code",
   "execution_count": 22,
   "metadata": {},
   "outputs": [
    {
     "name": "stdout",
     "output_type": "stream",
     "text": [
      "['a', 'b', 'c', 'd']\n",
      "['a', 'r', 's', 't']\n"
     ]
    }
   ],
   "source": [
    "# Create and print x\n",
    "x = [\"a\", \"b\", \"c\", \"d\"]\n",
    "print(x)\n",
    "\n",
    "# Replace some elements and print x\n",
    "x[1] = \"r\"\n",
    "x[2:] = [\"s\", \"t\"]\n",
    "print(x)"
   ]
  },
  {
   "cell_type": "markdown",
   "metadata": {},
   "source": [
    "Below, we will replace elements in the `areas` list."
   ]
  },
  {
   "cell_type": "code",
   "execution_count": 23,
   "metadata": {},
   "outputs": [
    {
     "name": "stdout",
     "output_type": "stream",
     "text": [
      "['hallway', 11.25, 'kitchen', 18.0, 'chill zone', 20.0, 'bedroom', 10.75, 'bathroom', 10.5]\n"
     ]
    }
   ],
   "source": [
    "# Create areas list\n",
    "areas = [\"hallway\", 11.25, \"kitchen\", 18.0, \"living room\", 20.0, \"bedroom\", 10.75, \"bathroom\", 9.50]\n",
    "\n",
    "# Replace bathroom area\n",
    "areas[-1] = 10.50\n",
    "\n",
    "# Replace living room description\n",
    "areas[4] = \"chill zone\"\n",
    "\n",
    "# Print areas\n",
    "print(areas)"
   ]
  },
  {
   "cell_type": "markdown",
   "metadata": {},
   "source": [
    "## Extend a list"
   ]
  },
  {
   "cell_type": "markdown",
   "metadata": {},
   "source": [
    "We can use the `+` operator to add elements to a list."
   ]
  },
  {
   "cell_type": "code",
   "execution_count": 24,
   "metadata": {},
   "outputs": [
    {
     "name": "stdout",
     "output_type": "stream",
     "text": [
      "['a', 'b', 'c', 'd', 'e', 'f']\n"
     ]
    }
   ],
   "source": [
    "# Create x\n",
    "x = [\"a\", \"b\", \"c\", \"d\"]\n",
    "\n",
    "# Extends x\n",
    "x = x + [\"e\", \"f\"]\n",
    "\n",
    "# Print x\n",
    "print(x)"
   ]
  },
  {
   "cell_type": "markdown",
   "metadata": {},
   "source": [
    "Below, we will add poolhouse and garage to the areas list:"
   ]
  },
  {
   "cell_type": "code",
   "execution_count": 25,
   "metadata": {},
   "outputs": [
    {
     "name": "stdout",
     "output_type": "stream",
     "text": [
      "['hallway', 11.25, 'kitchen', 18.0, 'chill zone', 20.0, 'bedroom', 10.75, 'bathroom', 10.5]\n",
      "['hallway', 11.25, 'kitchen', 18.0, 'chill zone', 20.0, 'bedroom', 10.75, 'bathroom', 10.5, 'poolhouse', 24.5, 'garage', 15.45]\n"
     ]
    }
   ],
   "source": [
    "# Print areas\n",
    "print(areas)\n",
    "\n",
    "# Extends areas list\n",
    "areas = areas + [\"poolhouse\", 24.5, \"garage\", 15.45]\n",
    "\n",
    "# Print areas (extedend)\n",
    "print(areas)"
   ]
  },
  {
   "cell_type": "markdown",
   "metadata": {},
   "source": [
    "## Delete list elements"
   ]
  },
  {
   "cell_type": "markdown",
   "metadata": {},
   "source": [
    "We can use `del` statement to remove elements from a list. Notice that as soon as we remove an element from a list, the indexes of the elements that come after the deleted element all change."
   ]
  },
  {
   "cell_type": "code",
   "execution_count": 26,
   "metadata": {},
   "outputs": [
    {
     "name": "stdout",
     "output_type": "stream",
     "text": [
      "['a', 'c', 'd']\n"
     ]
    }
   ],
   "source": [
    "# Create x\n",
    "x = [\"a\", \"b\", \"c\", \"d\"]\n",
    "\n",
    "# Remove the second element of x\n",
    "del(x[1])\n",
    "\n",
    "# Print x\n",
    "print(x)"
   ]
  },
  {
   "cell_type": "markdown",
   "metadata": {},
   "source": [
    "Suppose we don't have a poolhouse. We can delete it from our areas list as follows:"
   ]
  },
  {
   "cell_type": "code",
   "execution_count": 27,
   "metadata": {},
   "outputs": [
    {
     "name": "stdout",
     "output_type": "stream",
     "text": [
      "['hallway', 11.25, 'kitchen', 18.0, 'chill zone', 20.0, 'bedroom', 10.75, 'bathroom', 10.5, 'poolhouse', 24.5, 'garage', 15.45]\n",
      "['hallway', 11.25, 'kitchen', 18.0, 'chill zone', 20.0, 'bedroom', 10.75, 'bathroom', 10.5, 'garage', 15.45]\n"
     ]
    }
   ],
   "source": [
    "# Print areas\n",
    "print(areas)\n",
    "\n",
    "# Remove poolhouse from the list\n",
    "del(areas[-4])\n",
    "del(areas[-3])\n",
    "\n",
    "# Print areas (after deleting poolhouse and its area)\n",
    "print(areas)"
   ]
  },
  {
   "cell_type": "markdown",
   "metadata": {},
   "source": [
    "## Inner working of lists"
   ]
  },
  {
   "cell_type": "markdown",
   "metadata": {},
   "source": [
    "The Python code below creates a list with the name `areas` and a copy named `areas_copy`. After that, the first element in the `areas_copy` is changed and the `areas` list is printed out. Notice that, although we've changed `areas_copy`, the change also takes effect in the `areas` list. That's because `areas` and `areas_copy` point to the same list."
   ]
  },
  {
   "cell_type": "code",
   "execution_count": 28,
   "metadata": {},
   "outputs": [
    {
     "name": "stdout",
     "output_type": "stream",
     "text": [
      "[5.0, 18.0, 20.0, 10.75, 9.5]\n"
     ]
    }
   ],
   "source": [
    "# Create list areas\n",
    "areas = [11.25, 18.0, 20.0, 10.75, 9.50]\n",
    "\n",
    "# Create areas_copy\n",
    "areas_copy = areas\n",
    "\n",
    "# Change areas_copy\n",
    "areas_copy[0] = 5.0\n",
    "\n",
    "# Print areas\n",
    "print(areas)"
   ]
  },
  {
   "cell_type": "markdown",
   "metadata": {},
   "source": [
    "To prevent changes in `areas_copy` to also take effect in `areas`, we'll have to do a more explicit copy of the `areas` list. We can do this with `list()` or by using `[]`."
   ]
  },
  {
   "cell_type": "code",
   "execution_count": 29,
   "metadata": {},
   "outputs": [
    {
     "name": "stdout",
     "output_type": "stream",
     "text": [
      "[11.25, 18.0, 20.0, 10.75, 9.5]\n"
     ]
    }
   ],
   "source": [
    "# Create list areas\n",
    "areas = [11.25, 18.0, 20.0, 10.75, 9.50]\n",
    "\n",
    "# Create areas_copy\n",
    "areas_copy = list(areas)\n",
    "\n",
    "# Change areas_copy\n",
    "areas_copy[0] = 5.0\n",
    "\n",
    "# Print areas\n",
    "print(areas)"
   ]
  },
  {
   "cell_type": "markdown",
   "metadata": {},
   "source": [
    "# Functions and Packages"
   ]
  },
  {
   "cell_type": "markdown",
   "metadata": {},
   "source": [
    "## Familiar functions"
   ]
  },
  {
   "cell_type": "markdown",
   "metadata": {},
   "source": [
    "Out of the box, Python offers a bunch of built-in functions to make a data scientist's life easier. We already know two such functions: `print()` and `type()`. We've also used `str()`, `int()`, `bool()` and `float()` to switch between data types. These are built-in functions as well.\n",
    "\n",
    "Calling a function is easy. To get the type of `3.0` and ostore the output as a new variable, `result`, we can use the following: `result = type(3.0)`.\n",
    "\n",
    "The general recipe for calling functions is thus: `output = function_name(input)`."
   ]
  },
  {
   "cell_type": "code",
   "execution_count": 30,
   "metadata": {},
   "outputs": [
    {
     "name": "stdout",
     "output_type": "stream",
     "text": [
      "<class 'list'>\n",
      "4\n",
      "1\n"
     ]
    }
   ],
   "source": [
    "# Create variables var1 and var2\n",
    "var1 = [1, 2, 3, 4]\n",
    "var2 = True\n",
    "\n",
    "# Print out type of var1\n",
    "print(type(var1))\n",
    "\n",
    "# Print out length of var1\n",
    "print(len(var1))\n",
    "\n",
    "# Convert var2 to an integer and assign it to out2\n",
    "out2 = int(var2)\n",
    "\n",
    "# Print out out2\n",
    "print(out2)"
   ]
  },
  {
   "cell_type": "markdown",
   "metadata": {},
   "source": [
    "## Help!"
   ]
  },
  {
   "cell_type": "markdown",
   "metadata": {},
   "source": [
    "Maybe we already know the name of a Python function, but we still have to figure out how to use it. Ironically, we have to ask for information about a function with another funtion: `help()`.\n",
    "\n",
    "To get help on the `complex()` function, for example, we can use `help(complex)`."
   ]
  },
  {
   "cell_type": "code",
   "execution_count": 31,
   "metadata": {},
   "outputs": [
    {
     "name": "stdout",
     "output_type": "stream",
     "text": [
      "Help on built-in function max in module builtins:\n",
      "\n",
      "max(...)\n",
      "    max(iterable, *[, default=obj, key=func]) -> value\n",
      "    max(arg1, arg2, *args, *[, key=func]) -> value\n",
      "    \n",
      "    With a single iterable argument, return its biggest item. The\n",
      "    default keyword-only argument specifies an object to return if\n",
      "    the provided iterable is empty.\n",
      "    With two or more arguments, return the largest argument.\n",
      "\n",
      "None\n"
     ]
    }
   ],
   "source": [
    "# Open up the documentation on max()\n",
    "print(help(max))"
   ]
  },
  {
   "cell_type": "markdown",
   "metadata": {},
   "source": [
    "## Multiple arguments"
   ]
  },
  {
   "cell_type": "markdown",
   "metadata": {},
   "source": [
    "Below, we'll have a look at the documentatino of `sorted`:"
   ]
  },
  {
   "cell_type": "code",
   "execution_count": 32,
   "metadata": {},
   "outputs": [
    {
     "name": "stdout",
     "output_type": "stream",
     "text": [
      "Help on built-in function sorted in module builtins:\n",
      "\n",
      "sorted(iterable, /, *, key=None, reverse=False)\n",
      "    Return a new list containing all items from the iterable in ascending order.\n",
      "    \n",
      "    A custom key function can be supplied to customize the sort order, and the\n",
      "    reverse flag can be set to request the result in descending order.\n",
      "\n",
      "None\n"
     ]
    }
   ],
   "source": [
    "# Open the documentation on sorted()\n",
    "print(help(sorted))"
   ]
  },
  {
   "cell_type": "markdown",
   "metadata": {},
   "source": [
    "As we can see, `sorted()` takes three arguments: `iterable`, `key` and `reverse`.\n",
    "\n",
    "`key=None` means that if we don't specify the `key` argument, it will be `None`. `reverese=False` means that if we don't specify the `reverse` argument, it will be `False`.\n",
    "\n",
    "Below, we'll create two lists, paste them together and sort them in descending order. For that, we'll only have to specify `iterable` and `reverse`. The first input we pass to `sorted()` will be matched to the `iterable` argument, and to tell Python we want to specify `reverse` without changing anything about `key`, we'll use `=`. Notice that, for now, we can undestand an *iterable* as being any collection of objects, e.g. a List."
   ]
  },
  {
   "cell_type": "code",
   "execution_count": 33,
   "metadata": {},
   "outputs": [
    {
     "name": "stdout",
     "output_type": "stream",
     "text": [
      "[20.0, 18.0, 11.25, 10.75, 9.5]\n"
     ]
    }
   ],
   "source": [
    "# Create lists \n",
    "first = [11.25, 18.0, 20.0]\n",
    "second = [10.75, 9.50]\n",
    "\n",
    "# Paste lists together and assign it to full\n",
    "full = first + second\n",
    "\n",
    "# Sort full in descending order and assign it to full_sorted\n",
    "full_sorted = sorted(full, reverse = True)\n",
    "\n",
    "# Print out full_sorted\n",
    "print(full_sorted)"
   ]
  },
  {
   "cell_type": "markdown",
   "metadata": {},
   "source": [
    "## Methods"
   ]
  },
  {
   "cell_type": "markdown",
   "metadata": {},
   "source": [
    "We can think of methods as functions that belongs to objects."
   ]
  },
  {
   "cell_type": "markdown",
   "metadata": {},
   "source": [
    "## String methods"
   ]
  },
  {
   "cell_type": "markdown",
   "metadata": {},
   "source": [
    "Strings come with a bunch of methods. Below, we'll explore some of them."
   ]
  },
  {
   "cell_type": "code",
   "execution_count": 34,
   "metadata": {},
   "outputs": [
    {
     "name": "stdout",
     "output_type": "stream",
     "text": [
      "poolhouse\n",
      "POOLHOUSE\n",
      "3\n"
     ]
    }
   ],
   "source": [
    "# Create a string and assign it to room\n",
    "room = \"poolhouse\"\n",
    "\n",
    "# Use upper() method on room and assign it to room_up\n",
    "room_up = room.upper()\n",
    "\n",
    "# Use count() method on room, with the letter \"o\" as input, and assign it to room_count\n",
    "room_count = room.count(\"o\")\n",
    "\n",
    "# Print out room, room_up and room_count\n",
    "print(room)\n",
    "print(room_up)\n",
    "print(room_count)"
   ]
  },
  {
   "cell_type": "markdown",
   "metadata": {},
   "source": [
    "## List methods"
   ]
  },
  {
   "cell_type": "markdown",
   "metadata": {},
   "source": [
    "Strings are not the only Python type that have methods associated with it. Lists, floats, integers and booleans are also types that come packaged with a bunch of useful methods. Below, we'll use:\n",
    "* `index()` to get the index of the first element of `areas` that matches its input; and \n",
    "* `count()` to get the number of times `14.5` appears in `areas`."
   ]
  },
  {
   "cell_type": "code",
   "execution_count": 35,
   "metadata": {},
   "outputs": [
    {
     "name": "stdout",
     "output_type": "stream",
     "text": [
      "2\n",
      "0\n"
     ]
    }
   ],
   "source": [
    "# Create areas list\n",
    "areas = [11.25, 18.0, 20.0, 10.75, 9.50]\n",
    "\n",
    "# Print out the index of the element 20.0\n",
    "print(areas.index(20.0))\n",
    "\n",
    "# Print out how often 14.5 appears in areas\n",
    "print(areas.count(14.5))"
   ]
  },
  {
   "cell_type": "markdown",
   "metadata": {},
   "source": [
    "Most list methods changes the list they're called on. Examples are:\n",
    "* `append()`, that adds an element to the list its called on;\n",
    "* `remove()`, that removes the first element of a list that matches the input; and\n",
    "* `reverse()`, that reverses the order of the elements in the list it is called on.\n",
    "\n",
    "Below, we'll see how these three methods works in pratice."
   ]
  },
  {
   "cell_type": "code",
   "execution_count": 36,
   "metadata": {},
   "outputs": [
    {
     "name": "stdout",
     "output_type": "stream",
     "text": [
      "[11.25, 18.0, 20.0, 10.75, 9.5, 24.5, 15.45]\n",
      "[11.25, 18.0, 20.0, 10.75, 24.5, 15.45]\n",
      "[15.45, 24.5, 10.75, 20.0, 18.0, 11.25]\n"
     ]
    }
   ],
   "source": [
    "# Add two new sizes to the areas list\n",
    "areas.append(24.5)\n",
    "areas.append(15.45)\n",
    "print(areas)\n",
    "\n",
    "# Remove 9.50 from areas\n",
    "areas.remove(9.50)\n",
    "print(areas)\n",
    "\n",
    "# Reverse the order of the elements in areas\n",
    "areas.reverse()\n",
    "print(areas)"
   ]
  },
  {
   "cell_type": "markdown",
   "metadata": {},
   "source": [
    "## Packages"
   ]
  },
  {
   "cell_type": "markdown",
   "metadata": {},
   "source": [
    "We can think of packages as directory of Python scripts. Each script is called *module* and specify functions, methods and types. `Numpy`, `Matplotlib` and `Scikit-learn` are examples of packages."
   ]
  },
  {
   "cell_type": "markdown",
   "metadata": {},
   "source": [
    "## Import packages"
   ]
  },
  {
   "cell_type": "markdown",
   "metadata": {},
   "source": [
    "For a data scientist, some notion of Geometry never hurts. In the code cell below, we'll refresh some of the basics.\n",
    "\n",
    "For a fancy clustering algorithm, suppose we want to find the circumference `C` and the area `A` of a circle. When the radius of the circle is `r`, we can calculate `C` and `A` as:\n",
    "* C = 2 x pi x r\n",
    "* A = pi x (r ^ 2)\n",
    "\n",
    "To use the constant `pi`, we'll need the `math` package, which we will import using `import math`."
   ]
  },
  {
   "cell_type": "code",
   "execution_count": 37,
   "metadata": {},
   "outputs": [
    {
     "name": "stdout",
     "output_type": "stream",
     "text": [
      "Circumference: 2.701769682087222\n",
      "Area: 0.5808804816487527\n"
     ]
    }
   ],
   "source": [
    "# Import math package\n",
    "import math\n",
    "\n",
    "# Define the radius\n",
    "r = 0.43\n",
    "\n",
    "# Calculate the circumference and the area\n",
    "C = 2 * math.pi * r\n",
    "A = math.pi * (r ** 2)\n",
    "\n",
    "# Print out the results\n",
    "print(\"Circumference: \" + str(C))\n",
    "print(\"Area: \" + str(A))"
   ]
  },
  {
   "cell_type": "markdown",
   "metadata": {},
   "source": [
    "## Selective import"
   ]
  },
  {
   "cell_type": "markdown",
   "metadata": {},
   "source": [
    "General imports, like `import math`, make **all** functionality from the `math` package available. However, if we decide to only use a specific part of a package, we can make our import more selective: `from math import pi`.\n",
    "\n",
    "Below, we'll suppose that the Moon's orbit around the Earth is a perfect circle and calculate its travel distance over 12 degrees. For that we'll import `radians` module from `math` package."
   ]
  },
  {
   "cell_type": "code",
   "execution_count": 38,
   "metadata": {},
   "outputs": [
    {
     "name": "stdout",
     "output_type": "stream",
     "text": [
      "40317.10572106901\n"
     ]
    }
   ],
   "source": [
    "# Import radians module\n",
    "from math import radians\n",
    "\n",
    "# Define the radius\n",
    "r = 192500\n",
    "\n",
    "# Calculate Moon's travel distance over 12 degrees and assign it to distance\n",
    "distance = r * radians(12)\n",
    "\n",
    "# Print out the result\n",
    "print(distance)"
   ]
  },
  {
   "cell_type": "markdown",
   "metadata": {},
   "source": [
    "## Different ways of importing"
   ]
  },
  {
   "cell_type": "markdown",
   "metadata": {},
   "source": [
    "In order to use a function, we can import it in several ways."
   ]
  },
  {
   "cell_type": "code",
   "execution_count": 39,
   "metadata": {
    "collapsed": true
   },
   "outputs": [],
   "source": [
    "# Import the whole package\n",
    "import scipy\n",
    "\n",
    "# Import the module\n",
    "from scipy import linalg\n",
    "\n",
    "# Import the function\n",
    "from scipy.linalg import inv\n",
    "\n",
    "# Import the function with a specific name\n",
    "from scipy.linalg import inv as my_inv"
   ]
  },
  {
   "cell_type": "markdown",
   "metadata": {},
   "source": [
    "# NumPy"
   ]
  },
  {
   "cell_type": "markdown",
   "metadata": {},
   "source": [
    "NumPy, or Numeric Python, provides an alternative to Pthon List: the NumPy Array. Over a NumPy Array we can perform calculations over entire arrays, with an easy and fast way. Below, we'll create a Numpy array from a list."
   ]
  },
  {
   "cell_type": "code",
   "execution_count": 40,
   "metadata": {},
   "outputs": [
    {
     "name": "stdout",
     "output_type": "stream",
     "text": [
      "<class 'numpy.ndarray'>\n"
     ]
    }
   ],
   "source": [
    "# Import numpy\n",
    "import numpy as np\n",
    "\n",
    "# Create a list that represents the heigth of some baseball players in centimeters\n",
    "baseball = [180, 215, 210, 210, 188, 176, 209, 200]\n",
    "\n",
    "# Create a numpy array from baseball list\n",
    "np_baseball = np.array(baseball)\n",
    "\n",
    "# Print out the type of np_baseball\n",
    "print(type(np_baseball))"
   ]
  },
  {
   "cell_type": "markdown",
   "metadata": {
    "collapsed": true
   },
   "source": [
    "## Baseball players' height"
   ]
  },
  {
   "cell_type": "markdown",
   "metadata": {},
   "source": [
    "Suppose we decide to call the MLB (Major League Baseball) and ask around for some more statistics on the height of the main players. They pass along data on more than a thousand players, which we'll store as a DataFrame and transform their columns in regular python lists. Height is expressed in inches. In the code cell below, we'll make a `numpy` array out of it and convert the unit to meters."
   ]
  },
  {
   "cell_type": "code",
   "execution_count": 42,
   "metadata": {},
   "outputs": [
    {
     "name": "stdout",
     "output_type": "stream",
     "text": [
      "[74 74 72 ..., 75 75 73]\n",
      "[ 1.8796  1.8796  1.8288 ...,  1.905   1.905   1.8542]\n"
     ]
    }
   ],
   "source": [
    "# In these first lines, we'll import the dataset as a DataFrame and extract the column Height as a list\n",
    "import pandas as pd\n",
    "dataframe = pd.read_csv('baseball.csv')\n",
    "height = dataframe['Height'].tolist()\n",
    "\n",
    "# Import numpy\n",
    "import numpy as np\n",
    "\n",
    "# Create a numpy array from the list\n",
    "np_height = np.array(height)\n",
    "\n",
    "# Convert values to meters\n",
    "np_height_meters = np_height * 0.0254\n",
    "\n",
    "# Print both np_height and np_height_meters\n",
    "print(np_height)\n",
    "print(np_height_meters)"
   ]
  },
  {
   "cell_type": "markdown",
   "metadata": {},
   "source": [
    "## Baseball players' BMI"
   ]
  },
  {
   "cell_type": "markdown",
   "metadata": {},
   "source": [
    "The MLB also offered to let us analyze their weight data. Again, we'll transform a column of the dataframe in a list in order to make our calculations. Weight is in pounds. Below, we'll convert it to kilograms and calculate players' BMI."
   ]
  },
  {
   "cell_type": "code",
   "execution_count": 44,
   "metadata": {},
   "outputs": [
    {
     "name": "stdout",
     "output_type": "stream",
     "text": [
      "[ 23.11037639  27.60406069  28.48080465 ...,  25.62295933  23.74810865\n",
      "  25.72686361]\n"
     ]
    }
   ],
   "source": [
    "# Extract the column Weight as a list\n",
    "weight = dataframe['Weight'].tolist()\n",
    "\n",
    "# Create a numpy array from the list above\n",
    "np_weight = np.array(weight)\n",
    "\n",
    "# Convert values to kilograms\n",
    "np_weight_kilograms = np_weight * 0.453592\n",
    "\n",
    "# Calculate players' BMI\n",
    "bmi = np_weight_kilograms / (np_height_meters ** 2)\n",
    "\n",
    "# Print players' BMI\n",
    "print(bmi)"
   ]
  },
  {
   "cell_type": "markdown",
   "metadata": {},
   "source": [
    "## Lightweight baseball players"
   ]
  },
  {
   "cell_type": "markdown",
   "metadata": {},
   "source": [
    "To subset both regular Python lists and numpy arrays, we can use square brackets, as follows:"
   ]
  },
  {
   "cell_type": "code",
   "execution_count": 45,
   "metadata": {},
   "outputs": [
    {
     "name": "stdout",
     "output_type": "stream",
     "text": [
      "2\n",
      "2\n"
     ]
    }
   ],
   "source": [
    "x = [1, 2, 3, 4]\n",
    "print(x[1])\n",
    "\n",
    "y = np.array(x)\n",
    "print(y[1])"
   ]
  },
  {
   "cell_type": "markdown",
   "metadata": {},
   "source": [
    "For numpy specifically, we can also use boolean numpy arrays:"
   ]
  },
  {
   "cell_type": "code",
   "execution_count": 46,
   "metadata": {},
   "outputs": [
    {
     "name": "stdout",
     "output_type": "stream",
     "text": [
      "[3 4]\n"
     ]
    }
   ],
   "source": [
    "print(y[y > 2])"
   ]
  },
  {
   "cell_type": "markdown",
   "metadata": {},
   "source": [
    "Based on that, we'll now print out a numpy array with the BMIs of all baseball players whose BMI is below 21:"
   ]
  },
  {
   "cell_type": "code",
   "execution_count": 47,
   "metadata": {},
   "outputs": [
    {
     "name": "stdout",
     "output_type": "stream",
     "text": [
      "[False False False ..., False False False]\n",
      "[ 20.54255679  20.54255679  20.69282047  20.69282047  20.34343189\n",
      "  20.34343189  20.69282047  20.15883472  19.4984471   20.69282047\n",
      "  20.9205219 ]\n"
     ]
    }
   ],
   "source": [
    "# Create an array to store lightweight baseball players\n",
    "light = bmi < 21\n",
    "\n",
    "# Print light (boolean values)\n",
    "print(light)\n",
    "\n",
    "# Print BMIs of all baseball players whose BMI is below 21\n",
    "print(bmi[light])"
   ]
  },
  {
   "cell_type": "markdown",
   "metadata": {},
   "source": [
    "## NumPy side effects"
   ]
  },
  {
   "cell_type": "markdown",
   "metadata": {},
   "source": [
    "`numpy` is great for doing vector arithmetic. If we compare its functionality with regular Python lists, however, some things change.\n",
    "\n",
    "Firs of all, `numpy` arrays cannot contain elements with different types. If we try to build such a list, some of the elements' types are changed to end up with a homogeneous list. This is know as *type coercion*.\n",
    "\n",
    "Second, the typical arithmetic operators, such as `+`, `-`, `*` and `/` have a different meaning for regular Python lists and `numpy` arrays. Take as an example:"
   ]
  },
  {
   "cell_type": "code",
   "execution_count": 48,
   "metadata": {},
   "outputs": [
    {
     "data": {
      "text/plain": [
       "array([4, 5, 2])"
      ]
     },
     "execution_count": 48,
     "metadata": {},
     "output_type": "execute_result"
    }
   ],
   "source": [
    "np.array([True, 1, 2]) + np.array([3, 4, False])"
   ]
  },
  {
   "cell_type": "markdown",
   "metadata": {},
   "source": [
    "## Subsetting NumPy arrays"
   ]
  },
  {
   "cell_type": "markdown",
   "metadata": {},
   "source": [
    "Python lists and numpy arrays sometimes behave differently. Luckily, there are still certainties in this world. For example, subsetting works exactly the same. In the code cell below, we'll explore a little more how to subset numpy arrays."
   ]
  },
  {
   "cell_type": "code",
   "execution_count": 50,
   "metadata": {},
   "outputs": [
    {
     "name": "stdout",
     "output_type": "stream",
     "text": [
      "200\n",
      "[73, 74, 72, 73, 69, 72, 73, 75, 75, 73, 72]\n"
     ]
    }
   ],
   "source": [
    "# Print the weight at index 50\n",
    "print(weight[50])\n",
    "\n",
    "# Print sub-array containing the heights from index 100 up to and including index 110\n",
    "print(height[100:111])"
   ]
  },
  {
   "cell_type": "markdown",
   "metadata": {},
   "source": [
    "## Our first 2D NumPy array"
   ]
  },
  {
   "cell_type": "markdown",
   "metadata": {},
   "source": [
    "Before working on the actual MLB data, let's try to create a 2D numpy array from a small list of lists. In the code cell below, the main list contain 4 elements, and each of these elements is a list containing the height and the weight of 4 baseball players, in this order."
   ]
  },
  {
   "cell_type": "code",
   "execution_count": 52,
   "metadata": {},
   "outputs": [
    {
     "name": "stdout",
     "output_type": "stream",
     "text": [
      "<class 'numpy.ndarray'>\n",
      "(4, 2)\n"
     ]
    }
   ],
   "source": [
    "# Create list of lists\n",
    "list_of_lists = [[180, 78.4], \n",
    "                 [215, 102.7], \n",
    "                 [210, 98.5], \n",
    "                 [188, 75.2]]\n",
    "\n",
    "# Create a 2D numpy array from the list of lists\n",
    "np_list_of_lists = np.array(list_of_lists)\n",
    "\n",
    "# Print the type and the shape of np_list_of_lists (notice that shape is an attribute of the numpy array)\n",
    "print(type(np_list_of_lists))\n",
    "print(np_list_of_lists.shape)"
   ]
  },
  {
   "cell_type": "markdown",
   "metadata": {},
   "source": [
    "## Baseball data in 2D form"
   ]
  },
  {
   "cell_type": "markdown",
   "metadata": {},
   "source": [
    "If we have another look at the MLB data, we'll realize that it makes more sense to restructure all this information in a 2D numpy array. This array should have 1015 rows, corresponding to the 1015 baseball players we have information on, and 2 columns, height and weight.\n",
    "\n",
    "In the code cell below, we'll create the list of lists from which we'll get the 2D numpy array and print out the shape of the 2D numpy array."
   ]
  },
  {
   "cell_type": "code",
   "execution_count": 65,
   "metadata": {},
   "outputs": [
    {
     "name": "stdout",
     "output_type": "stream",
     "text": [
      "(1015, 2)\n"
     ]
    }
   ],
   "source": [
    "# Create list of lists\n",
    "mlb_list_of_lists = []\n",
    "for row in range(len(dataframe)):\n",
    "    height = dataframe.iloc[row, 3]\n",
    "    weight = dataframe.iloc[row, 4]\n",
    "    mlb_list_of_lists.append([height, weight])\n",
    "\n",
    "# Create a 2D numpy array from the list of lists\n",
    "np_mlb_list_of_lists = np.array(mlb_list_of_lists)\n",
    "\n",
    "# Print the shape of the 2D numpy array\n",
    "print(np_mlb_list_of_lists.shape)"
   ]
  },
  {
   "cell_type": "markdown",
   "metadata": {},
   "source": [
    "## Subsetting 2D NumPy arrays"
   ]
  },
  {
   "cell_type": "markdown",
   "metadata": {},
   "source": [
    "If a 2D numpy array has a regular structure, i.e. each row and column has a fixed number of values, complicated ways of subsetting become very easy. Let's have a look at the code cell below, where the elements `\"a\"` and `\"c\"` are extracted from a list of lists."
   ]
  },
  {
   "cell_type": "code",
   "execution_count": 67,
   "metadata": {},
   "outputs": [
    {
     "name": "stdout",
     "output_type": "stream",
     "text": [
      "['a', 'c']\n",
      "['a' 'c']\n"
     ]
    }
   ],
   "source": [
    "# Create a regular list of lists\n",
    "x = [[\"a\", \"b\"], [\"c\", \"d\"]]\n",
    "print([x[0][0], x[1][0]])\n",
    "\n",
    "# Using numpy\n",
    "np_x = np.array(x)\n",
    "print(np_x[:, 0])"
   ]
  },
  {
   "cell_type": "markdown",
   "metadata": {},
   "source": [
    "For regular Python lists this is a real pain. For 2D numpy arrays, however, it's pretty intuitive. The indexes before the comma refer to the rows, while thos after the comma refer to the columns. The `:` is for slicing; in this example, it tells Python to include all the rows.\n",
    "\n",
    "In the code cell below, we'll print out the 50th row of `np_mlb_list_of_lists`, make a new variable containing the entire second column of it, and print out the height (first column) of the 124th player."
   ]
  },
  {
   "cell_type": "code",
   "execution_count": 69,
   "metadata": {},
   "outputs": [
    {
     "name": "stdout",
     "output_type": "stream",
     "text": [
      "[ 70 195]\n",
      "[180 215 210 ..., 205 190 195]\n",
      "75\n"
     ]
    }
   ],
   "source": [
    "# Print the 50th row\n",
    "print(np_mlb_list_of_lists[49,:])\n",
    "\n",
    "# Create new variable containing the entire second column of np_mlb_list_of_lists and print it\n",
    "new_variable = np_mlb_list_of_lists[:,1]\n",
    "print(new_variable)\n",
    "\n",
    "# Print the height of the 124th player\n",
    "print(np_mlb_list_of_lists[123,0])"
   ]
  },
  {
   "cell_type": "markdown",
   "metadata": {},
   "source": [
    "## 2D arithmetic"
   ]
  },
  {
   "cell_type": "markdown",
   "metadata": {},
   "source": [
    "Remember how we calculated the Body Mass Index for all baseball players? `numpy` was able to perform all calculations element-wise (i.e. element by element). For 2D `numpy` arrays this isn't any different. We can combine matrices with single numbers, with vectors, and with other matrices. Take the code cell below as an example:"
   ]
  },
  {
   "cell_type": "code",
   "execution_count": 71,
   "metadata": {},
   "outputs": [
    {
     "name": "stdout",
     "output_type": "stream",
     "text": [
      "[[ 2  4]\n",
      " [ 6  8]\n",
      " [10 12]]\n",
      "[[11 12]\n",
      " [13 14]\n",
      " [15 16]]\n",
      "[[ 2  4]\n",
      " [ 6  8]\n",
      " [10 12]]\n"
     ]
    }
   ],
   "source": [
    "# Create a 2D numpy array\n",
    "matrice = np.array([[1, 2], \n",
    "                    [3, 4], \n",
    "                    [5, 6]])\n",
    "\n",
    "# Operations\n",
    "print(matrice * 2)\n",
    "print(matrice + np.array([10, 10]))\n",
    "print(matrice + matrice)"
   ]
  },
  {
   "cell_type": "markdown",
   "metadata": {},
   "source": [
    "In the following code cell, we'll get a new 2D numpy array from the dataset provided by the MLB containing players' weight, height and age. After that, we'll convert units using a numpy array named `conversion`."
   ]
  },
  {
   "cell_type": "code",
   "execution_count": 90,
   "metadata": {},
   "outputs": [
    {
     "name": "stdout",
     "output_type": "stream",
     "text": [
      "[[  1.8796   81.64656  22.99   ]\n",
      " [  1.8796   97.52228  34.69   ]\n",
      " [  1.8288   95.25432  30.78   ]\n",
      " ..., \n",
      " [  1.905    92.98636  25.19   ]\n",
      " [  1.905    86.18248  31.01   ]\n",
      " [  1.8542   88.45044  27.92   ]]\n"
     ]
    }
   ],
   "source": [
    "# Create new 2D numpy array\n",
    "new_list_of_lists = []\n",
    "for row in range(len(dataframe)):\n",
    "    height = dataframe.iloc[row, 3]\n",
    "    weight = dataframe.iloc[row, 4]\n",
    "    age = dataframe.iloc[row, 5]\n",
    "    new_list_of_lists.append([height, weight, age])\n",
    "new_2d_array = np.array(new_list_of_lists)\n",
    "\n",
    "# Create an array with conversion values\n",
    "conversion = np.array([0.0254, 0.453592, 1])\n",
    "\n",
    "# Convert values and print it\n",
    "converted_values = new_2d_array * conversion\n",
    "print(converted_values)"
   ]
  },
  {
   "cell_type": "markdown",
   "metadata": {},
   "source": [
    "## Average versus median"
   ]
  },
  {
   "cell_type": "markdown",
   "metadata": {},
   "source": [
    "As we can see below, the summary statistic named `median` is best suited if we're dealing with so-called *outliers*."
   ]
  },
  {
   "cell_type": "code",
   "execution_count": 93,
   "metadata": {},
   "outputs": [
    {
     "name": "stdout",
     "output_type": "stream",
     "text": [
      "1586.46108374\n",
      "74.0\n"
     ]
    }
   ],
   "source": [
    "# Pre-code in order to achieve the purpose of the discussion\n",
    "another_list_of_lists = []\n",
    "for row in range(len(dataframe)):\n",
    "    if row == 0 or row % 50 == 0:\n",
    "        height = dataframe.iloc[row, 3] * 1000\n",
    "        weight = dataframe.iloc[row, 4] * 1000\n",
    "        age = dataframe.iloc[row, 5] * 1000\n",
    "        another_list_of_lists.append([height, weight, age])\n",
    "    else:\n",
    "        height = dataframe.iloc[row, 3]\n",
    "        weight = dataframe.iloc[row, 4]\n",
    "        age = dataframe.iloc[row, 5]\n",
    "        another_list_of_lists.append([height, weight, age])\n",
    "another_2d_array = np.array(another_list_of_lists)\n",
    "\n",
    "# Print the mean of heights in new_2d_array\n",
    "print(np.mean(another_2d_array[:,0]))\n",
    "\n",
    "# Print the median of heights in new_2d_array\n",
    "print(np.median(another_2d_array[:,0]))"
   ]
  },
  {
   "cell_type": "markdown",
   "metadata": {},
   "source": [
    "## Exploring the baseball data"
   ]
  },
  {
   "cell_type": "markdown",
   "metadata": {},
   "source": [
    "In the code cell below, we'll explore the data provided by MLB."
   ]
  },
  {
   "cell_type": "code",
   "execution_count": 95,
   "metadata": {},
   "outputs": [
    {
     "name": "stdout",
     "output_type": "stream",
     "text": [
      "Average: 73.6896551724\n",
      "Median: 74.0\n",
      "Standard Deviation: 2.31279188105\n",
      "Correlation: [[ 1.          0.53153932]\n",
      " [ 0.53153932  1.        ]]\n"
     ]
    }
   ],
   "source": [
    "# Print mean of height\n",
    "average = np.mean(new_2d_array[:,0])\n",
    "print(\"Average: \" + str(average))\n",
    "\n",
    "# Print median of height\n",
    "median = np.median(new_2d_array[:, 0])\n",
    "print(\"Median: \" + str(median))\n",
    "\n",
    "# Print out the standard deviation of height\n",
    "standard_deviation = np.std(new_2d_array[:, 0])\n",
    "print(\"Standard Deviation: \" + str(standard_deviation))\n",
    "\n",
    "# Print out correlation between first and second column\n",
    "correlation = np.corrcoef(new_2d_array[:, 0], new_2d_array[:, 1])\n",
    "print(\"Correlation: \" + str(correlation))"
   ]
  },
  {
   "cell_type": "markdown",
   "metadata": {},
   "source": [
    "## Blending it all together"
   ]
  },
  {
   "cell_type": "markdown",
   "metadata": {},
   "source": [
    "Suppose we've contacted FIFA for some data and they handed us two lists: `positions = ['GK', 'M', 'A', 'D', ...]` and `heights = [191, 184, 185, 180, ...]`. Each element in the lists corresponds to a player.\n",
    "\n",
    "In the code cell below, we'll convert the lists to numpy arrays, extract the heights of the goalkeepers, extract the heights of all other players, print out the median height of the goalkeepers and do the same for the other players."
   ]
  },
  {
   "cell_type": "code",
   "execution_count": 100,
   "metadata": {},
   "outputs": [
    {
     "name": "stdout",
     "output_type": "stream",
     "text": [
      "Median height of goalkeepers: 188.0\n",
      "Median height of other players: 181.0\n"
     ]
    }
   ],
   "source": [
    "# In these first lines, we'll import the dataset as a DataFrame and extract the columns as lists\n",
    "fifa_dataframe = pd.read_csv('fifa.csv', skipinitialspace = True, usecols = ['position', 'height'])\n",
    "fifa_positions = list(fifa_dataframe.position)\n",
    "fifa_heights = list(fifa_dataframe.height)\n",
    "\n",
    "# Convert lists to numpy arrays\n",
    "np_fifa_positions = np.array(fifa_positions)\n",
    "np_fifa_heights = np.array(fifa_heights)\n",
    "\n",
    "# Extract heights of the goalkeepers\n",
    "gk_heights = np_fifa_heights[np_fifa_positions == 'GK']\n",
    "\n",
    "# Extract heights of the other players\n",
    "other_players_heights = np_fifa_heights[np_fifa_positions != 'GK']\n",
    "\n",
    "# Print goalkeepers median height and other players median height\n",
    "print(\"Median height of goalkeepers: \" + str(np.median(gk_heights)))\n",
    "print(\"Median height of other players: \" + str(np.median(other_players_heights)))"
   ]
  }
 ],
 "metadata": {
  "anaconda-cloud": {},
  "kernelspec": {
   "display_name": "Python 3",
   "language": "python",
   "name": "python3"
  },
  "language_info": {
   "codemirror_mode": {
    "name": "ipython",
    "version": 3
   },
   "file_extension": ".py",
   "mimetype": "text/x-python",
   "name": "python",
   "nbconvert_exporter": "python",
   "pygments_lexer": "ipython3",
   "version": "3.6.1"
  }
 },
 "nbformat": 4,
 "nbformat_minor": 1
}
